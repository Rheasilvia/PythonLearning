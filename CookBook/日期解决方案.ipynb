{
 "cells": [
  {
   "cell_type": "code",
   "execution_count": 1,
   "metadata": {},
   "outputs": [],
   "source": [
    "from datetime import datetime,date,timedelta\n",
    "import calendar"
   ]
  },
  {
   "cell_type": "markdown",
   "metadata": {},
   "source": [
    "## 找出当月的日期范围"
   ]
  },
  {
   "cell_type": "code",
   "execution_count": 2,
   "metadata": {},
   "outputs": [],
   "source": [
    "#方式一\n",
    "def get_month_range(start_date=None):\n",
    "    if start_date is None:\n",
    "        start_date = date.today().replace(day=1)\n",
    "    _,days_in_month = calendar.monthrange(start_date.year,start_date.month)\n",
    "    end_date = start_date + timedelta(days=days_in_month)\n",
    "    return (start_date,end_date)"
   ]
  },
  {
   "cell_type": "code",
   "execution_count": 3,
   "metadata": {},
   "outputs": [
    {
     "name": "stdout",
     "output_type": "stream",
     "text": [
      "2018-06-01\n2018-06-02\n2018-06-03\n2018-06-04\n2018-06-05\n2018-06-06\n2018-06-07\n2018-06-08\n2018-06-09\n2018-06-10\n2018-06-11\n2018-06-12\n2018-06-13\n2018-06-14\n2018-06-15\n2018-06-16\n2018-06-17\n2018-06-18\n2018-06-19\n2018-06-20\n2018-06-21\n2018-06-22\n2018-06-23\n2018-06-24\n2018-06-25\n2018-06-26\n2018-06-27\n2018-06-28\n2018-06-29\n2018-06-30\n"
     ]
    }
   ],
   "source": [
    "a_day = timedelta(days=1)\n",
    "first_day,last_day = get_month_range()\n",
    "while first_day < last_day:\n",
    "    print(first_day)\n",
    "    first_day += a_day"
   ]
  },
  {
   "cell_type": "code",
   "execution_count": 5,
   "metadata": {},
   "outputs": [
    {
     "name": "stdout",
     "output_type": "stream",
     "text": [
      "2012-09-01 00:00:00\n2012-09-02 00:00:00\n2012-09-03 00:00:00\n2012-09-04 00:00:00\n2012-09-05 00:00:00\n2012-09-06 00:00:00\n2012-09-07 00:00:00\n2012-09-08 00:00:00\n2012-09-09 00:00:00\n2012-09-10 00:00:00\n2012-09-11 00:00:00\n2012-09-12 00:00:00\n2012-09-13 00:00:00\n2012-09-14 00:00:00\n2012-09-15 00:00:00\n2012-09-16 00:00:00\n2012-09-17 00:00:00\n2012-09-18 00:00:00\n2012-09-19 00:00:00\n2012-09-20 00:00:00\n2012-09-21 00:00:00\n2012-09-22 00:00:00\n2012-09-23 00:00:00\n2012-09-24 00:00:00\n2012-09-25 00:00:00\n2012-09-26 00:00:00\n2012-09-27 00:00:00\n2012-09-28 00:00:00\n2012-09-29 00:00:00\n2012-09-30 00:00:00\n"
     ]
    }
   ],
   "source": [
    "##最佳方式\n",
    "def date_range(start,stop,step):\n",
    "    while start < stop:\n",
    "        yield start\n",
    "        start += step\n",
    "        \n",
    "for d in date_range(datetime(2012,9,1),datetime(2012,10,1),timedelta(hours=24)):\n",
    "    print(d)\n",
    "            "
   ]
  },
  {
   "cell_type": "code",
   "execution_count": null,
   "metadata": {},
   "outputs": [],
   "source": [
    "def create(num):\n",
    "    for i in range(num):\n",
    "        yield i\n",
    "\n",
    "info = [i for i in  create(20)]\n",
    "print(info)\n",
    "\n"
   ]
  }
 ],
 "metadata": {
  "kernelspec": {
   "display_name": "Python 3",
   "language": "python",
   "name": "python3"
  },
  "language_info": {
   "codemirror_mode": {
    "name": "ipython",
    "version": 3
   },
   "file_extension": ".py",
   "mimetype": "text/x-python",
   "name": "python",
   "nbconvert_exporter": "python",
   "pygments_lexer": "ipython3",
   "version": "3.6.5"
  }
 },
 "nbformat": 4,
 "nbformat_minor": 2
}
