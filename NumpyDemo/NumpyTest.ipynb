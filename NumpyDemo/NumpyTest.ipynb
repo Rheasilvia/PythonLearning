{
 "cells": [
  {
   "cell_type": "code",
   "execution_count": 1,
   "metadata": {
    "collapsed": true
   },
   "outputs": [],
   "source": [
    "import numpy as np"
   ]
  },
  {
   "cell_type": "code",
   "execution_count": 2,
   "metadata": {},
   "outputs": [
    {
     "name": "stdout",
     "output_type": "stream",
     "text": [
      "float64\n"
     ]
    }
   ],
   "source": [
    "arr = np.array([1,2,3],dtype=np.float64)#生成指定的类型的数组\n",
    "print(arr.dtype)"
   ]
  },
  {
   "cell_type": "code",
   "execution_count": 3,
   "metadata": {},
   "outputs": [
    {
     "data": {
      "text/plain": [
       "array([ 1.,  2.,  3.])"
      ]
     },
     "execution_count": 3,
     "metadata": {},
     "output_type": "execute_result"
    }
   ],
   "source": [
    "arr"
   ]
  },
  {
   "cell_type": "code",
   "execution_count": 4,
   "metadata": {},
   "outputs": [
    {
     "name": "stdout",
     "output_type": "stream",
     "text": [
      "[1 2 3 4 5] int64\n"
     ]
    }
   ],
   "source": [
    "int_arr = np.array([1,2,3,4,5])\n",
    "print (int_arr,int_arr.dtype)"
   ]
  },
  {
   "cell_type": "code",
   "execution_count": 5,
   "metadata": {},
   "outputs": [
    {
     "name": "stdout",
     "output_type": "stream",
     "text": [
      "[ 1.  2.  3.  4.  5.] float64\n"
     ]
    }
   ],
   "source": [
    "#使用astype复制数组并转换数据类型\n",
    "float_arr = int_arr.astype(np.float)\n",
    "print (float_arr,float_arr.dtype)"
   ]
  },
  {
   "cell_type": "markdown",
   "metadata": {},
   "source": [
    "使用astype将float转换为int时，小数部分会被舍弃"
   ]
  },
  {
   "cell_type": "markdown",
   "metadata": {},
   "source": [
    "使用astype把字符串转换成数组的时候，如果失败抛出异常。"
   ]
  },
  {
   "cell_type": "code",
   "execution_count": 6,
   "metadata": {},
   "outputs": [
    {
     "data": {
      "text/plain": [
       "array([b'1.2', b'2.f'],\n",
       "      dtype='|S3')"
      ]
     },
     "execution_count": 6,
     "metadata": {},
     "output_type": "execute_result"
    }
   ],
   "source": [
    "str_arr = np.array(['1.2','2.f'],dtype=np.string_)\n",
    "str_arr"
   ]
  },
  {
   "cell_type": "code",
   "execution_count": 7,
   "metadata": {},
   "outputs": [
    {
     "ename": "ValueError",
     "evalue": "could not convert string to float: '2.f'",
     "output_type": "error",
     "traceback": [
      "\u001b[0;31m---------------------------------------------------------------------------\u001b[0m",
      "\u001b[0;31mValueError\u001b[0m                                Traceback (most recent call last)",
      "\u001b[0;32m<ipython-input-7-f57fa6e9a8f9>\u001b[0m in \u001b[0;36m<module>\u001b[0;34m()\u001b[0m\n\u001b[0;32m----> 1\u001b[0;31m \u001b[0mfloat_arr\u001b[0m \u001b[0;34m=\u001b[0m \u001b[0mstr_arr\u001b[0m\u001b[0;34m.\u001b[0m\u001b[0mastype\u001b[0m\u001b[0;34m(\u001b[0m\u001b[0mnp\u001b[0m\u001b[0;34m.\u001b[0m\u001b[0mfloat\u001b[0m\u001b[0;34m)\u001b[0m\u001b[0;34m\u001b[0m\u001b[0m\n\u001b[0m\u001b[1;32m      2\u001b[0m \u001b[0mprint\u001b[0m \u001b[0;34m(\u001b[0m\u001b[0mfloat_arr\u001b[0m\u001b[0;34m,\u001b[0m\u001b[0mfloat_arr\u001b[0m\u001b[0;34m.\u001b[0m\u001b[0mdtype\u001b[0m\u001b[0;34m)\u001b[0m\u001b[0;34m\u001b[0m\u001b[0m\n",
      "\u001b[0;31mValueError\u001b[0m: could not convert string to float: '2.f'"
     ]
    }
   ],
   "source": [
    "float_arr = str_arr.astype(np.float)\n",
    "print (float_arr,float_arr.dtype)"
   ]
  },
  {
   "cell_type": "markdown",
   "metadata": {},
   "source": [
    "## 取值"
   ]
  },
  {
   "cell_type": "code",
   "execution_count": null,
   "metadata": {},
   "outputs": [],
   "source": [
    "a= np.array([[1,2,3,4],[5,6,7,8],[9,10,11,12]])\n",
    "print (a)\n",
    "print (a.shape)"
   ]
  },
  {
   "cell_type": "code",
   "execution_count": 8,
   "metadata": {},
   "outputs": [
    {
     "ename": "NameError",
     "evalue": "name 'a' is not defined",
     "output_type": "error",
     "traceback": [
      "\u001b[0;31m---------------------------------------------------------------------------\u001b[0m",
      "\u001b[0;31mNameError\u001b[0m                                 Traceback (most recent call last)",
      "\u001b[0;32m<ipython-input-8-a7c9a716f187>\u001b[0m in \u001b[0;36m<module>\u001b[0;34m()\u001b[0m\n\u001b[1;32m      1\u001b[0m \u001b[0;31m#切片\u001b[0m\u001b[0;34m\u001b[0m\u001b[0;34m\u001b[0m\u001b[0m\n\u001b[0;32m----> 2\u001b[0;31m \u001b[0mb\u001b[0m \u001b[0;34m=\u001b[0m \u001b[0ma\u001b[0m\u001b[0;34m[\u001b[0m\u001b[0;36m0\u001b[0m\u001b[0;34m:\u001b[0m\u001b[0;36m2\u001b[0m\u001b[0;34m,\u001b[0m\u001b[0;36m2\u001b[0m\u001b[0;34m:\u001b[0m\u001b[0;36m4\u001b[0m\u001b[0;34m]\u001b[0m \u001b[0;31m#0：2指的是行的取值0,1；2：4指的是列的取值2,3；因此是[3,4][7,8]\u001b[0m\u001b[0;34m\u001b[0m\u001b[0m\n\u001b[0m\u001b[1;32m      3\u001b[0m \u001b[0mb\u001b[0m\u001b[0;34m\u001b[0m\u001b[0m\n",
      "\u001b[0;31mNameError\u001b[0m: name 'a' is not defined"
     ]
    }
   ],
   "source": [
    "#切片\n",
    "b = a[0:2,2:4] #0：2指的是行的取值0,1；2：4指的是列的取值2,3；因此是[3,4][7,8]\n",
    "b"
   ]
  },
  {
   "cell_type": "code",
   "execution_count": 9,
   "metadata": {},
   "outputs": [
    {
     "ename": "NameError",
     "evalue": "name 'b' is not defined",
     "output_type": "error",
     "traceback": [
      "\u001b[0;31m---------------------------------------------------------------------------\u001b[0m",
      "\u001b[0;31mNameError\u001b[0m                                 Traceback (most recent call last)",
      "\u001b[0;32m<ipython-input-9-f9216433fa3c>\u001b[0m in \u001b[0;36m<module>\u001b[0;34m()\u001b[0m\n\u001b[1;32m      1\u001b[0m \u001b[0;31m#如果修改参数，那么会修改，因为numpy是引用传值,如果是要不想改变原值用copy()\u001b[0m\u001b[0;34m\u001b[0m\u001b[0;34m\u001b[0m\u001b[0m\n\u001b[0;32m----> 2\u001b[0;31m \u001b[0mb\u001b[0m\u001b[0;34m[\u001b[0m\u001b[0;36m0\u001b[0m\u001b[0;34m,\u001b[0m\u001b[0;36m0\u001b[0m\u001b[0;34m]\u001b[0m \u001b[0;34m=\u001b[0m \u001b[0;36m1111\u001b[0m\u001b[0;34m\u001b[0m\u001b[0m\n\u001b[0m\u001b[1;32m      3\u001b[0m \u001b[0mprint\u001b[0m \u001b[0;34m(\u001b[0m\u001b[0mb\u001b[0m\u001b[0;34m)\u001b[0m\u001b[0;34m\u001b[0m\u001b[0m\n\u001b[1;32m      4\u001b[0m \u001b[0mprint\u001b[0m \u001b[0;34m(\u001b[0m\u001b[0ma\u001b[0m\u001b[0;34m)\u001b[0m\u001b[0;34m\u001b[0m\u001b[0m\n",
      "\u001b[0;31mNameError\u001b[0m: name 'b' is not defined"
     ]
    }
   ],
   "source": [
    "#如果修改参数，那么会修改，因为numpy是引用传值,如果是要不想改变原值用copy()\n",
    "b[0,0] = 1111\n",
    "print (b)\n",
    "print (a)"
   ]
  },
  {
   "cell_type": "code",
   "execution_count": 10,
   "metadata": {},
   "outputs": [
    {
     "ename": "NameError",
     "evalue": "name 'a' is not defined",
     "output_type": "error",
     "traceback": [
      "\u001b[0;31m---------------------------------------------------------------------------\u001b[0m",
      "\u001b[0;31mNameError\u001b[0m                                 Traceback (most recent call last)",
      "\u001b[0;32m<ipython-input-10-bbfa2a3c38d2>\u001b[0m in \u001b[0;36m<module>\u001b[0;34m()\u001b[0m\n\u001b[0;32m----> 1\u001b[0;31m \u001b[0mrow_r1\u001b[0m \u001b[0;34m=\u001b[0m \u001b[0ma\u001b[0m\u001b[0;34m[\u001b[0m\u001b[0;36m1\u001b[0m\u001b[0;34m,\u001b[0m\u001b[0;34m:\u001b[0m\u001b[0;34m]\u001b[0m\u001b[0;31m#找到第二行\u001b[0m\u001b[0;34m\u001b[0m\u001b[0m\n\u001b[0m\u001b[1;32m      2\u001b[0m \u001b[0mprint\u001b[0m\u001b[0;34m(\u001b[0m\u001b[0mrow_r1\u001b[0m\u001b[0;34m,\u001b[0m\u001b[0mrow_r1\u001b[0m\u001b[0;34m.\u001b[0m\u001b[0mshape\u001b[0m\u001b[0;34m)\u001b[0m\u001b[0;34m\u001b[0m\u001b[0m\n",
      "\u001b[0;31mNameError\u001b[0m: name 'a' is not defined"
     ]
    }
   ],
   "source": [
    "row_r1 = a[1,:]#找到第二行\n",
    "print(row_r1,row_r1.shape)"
   ]
  },
  {
   "cell_type": "code",
   "execution_count": 11,
   "metadata": {},
   "outputs": [
    {
     "ename": "NameError",
     "evalue": "name 'a' is not defined",
     "output_type": "error",
     "traceback": [
      "\u001b[0;31m---------------------------------------------------------------------------\u001b[0m",
      "\u001b[0;31mNameError\u001b[0m                                 Traceback (most recent call last)",
      "\u001b[0;32m<ipython-input-11-f8bab850e3c7>\u001b[0m in \u001b[0;36m<module>\u001b[0;34m()\u001b[0m\n\u001b[0;32m----> 1\u001b[0;31m \u001b[0mcol_r1\u001b[0m \u001b[0;34m=\u001b[0m \u001b[0ma\u001b[0m\u001b[0;34m[\u001b[0m\u001b[0;34m:\u001b[0m\u001b[0;34m,\u001b[0m\u001b[0;36m1\u001b[0m\u001b[0;34m]\u001b[0m\u001b[0;34m.\u001b[0m\u001b[0mcopy\u001b[0m\u001b[0;34m(\u001b[0m\u001b[0;34m)\u001b[0m\u001b[0;34m\u001b[0m\u001b[0m\n\u001b[0m\u001b[1;32m      2\u001b[0m \u001b[0mprint\u001b[0m\u001b[0;34m(\u001b[0m\u001b[0mcol_r1\u001b[0m\u001b[0;34m,\u001b[0m\u001b[0mcol_r1\u001b[0m\u001b[0;34m.\u001b[0m\u001b[0mshape\u001b[0m\u001b[0;34m)\u001b[0m\u001b[0;31m#是一个一维数组\u001b[0m\u001b[0;34m\u001b[0m\u001b[0m\n",
      "\u001b[0;31mNameError\u001b[0m: name 'a' is not defined"
     ]
    }
   ],
   "source": [
    "col_r1 = a[:,1].copy()\n",
    "print(col_r1,col_r1.shape)#是一个一维数组"
   ]
  },
  {
   "cell_type": "code",
   "execution_count": 12,
   "metadata": {},
   "outputs": [
    {
     "ename": "NameError",
     "evalue": "name 'a' is not defined",
     "output_type": "error",
     "traceback": [
      "\u001b[0;31m---------------------------------------------------------------------------\u001b[0m",
      "\u001b[0;31mNameError\u001b[0m                                 Traceback (most recent call last)",
      "\u001b[0;32m<ipython-input-12-644175bf15d7>\u001b[0m in \u001b[0;36m<module>\u001b[0;34m()\u001b[0m\n\u001b[0;32m----> 1\u001b[0;31m \u001b[0mcol_r2\u001b[0m \u001b[0;34m=\u001b[0m \u001b[0ma\u001b[0m\u001b[0;34m[\u001b[0m\u001b[0;34m:\u001b[0m\u001b[0;34m,\u001b[0m\u001b[0;36m1\u001b[0m\u001b[0;34m:\u001b[0m\u001b[0;36m2\u001b[0m\u001b[0;34m]\u001b[0m\u001b[0;34m\u001b[0m\u001b[0m\n\u001b[0m\u001b[1;32m      2\u001b[0m \u001b[0mprint\u001b[0m\u001b[0;34m(\u001b[0m\u001b[0mcol_r2\u001b[0m\u001b[0;34m,\u001b[0m\u001b[0mcol_r2\u001b[0m\u001b[0;34m.\u001b[0m\u001b[0mshape\u001b[0m\u001b[0;34m)\u001b[0m\u001b[0;34m\u001b[0m\u001b[0m\n",
      "\u001b[0;31mNameError\u001b[0m: name 'a' is not defined"
     ]
    }
   ],
   "source": [
    "col_r2 = a[:,1:2]\n",
    "print(col_r2,col_r2.shape)"
   ]
  },
  {
   "cell_type": "code",
   "execution_count": 13,
   "metadata": {},
   "outputs": [
    {
     "ename": "NameError",
     "evalue": "name 'a' is not defined",
     "output_type": "error",
     "traceback": [
      "\u001b[0;31m---------------------------------------------------------------------------\u001b[0m",
      "\u001b[0;31mNameError\u001b[0m                                 Traceback (most recent call last)",
      "\u001b[0;32m<ipython-input-13-9a4315a115fc>\u001b[0m in \u001b[0;36m<module>\u001b[0;34m()\u001b[0m\n\u001b[0;32m----> 1\u001b[0;31m \u001b[0mprint\u001b[0m \u001b[0;34m(\u001b[0m\u001b[0ma\u001b[0m\u001b[0;34m)\u001b[0m\u001b[0;34m\u001b[0m\u001b[0m\n\u001b[0m\u001b[1;32m      2\u001b[0m \u001b[0md\u001b[0m \u001b[0;34m=\u001b[0m \u001b[0ma\u001b[0m\u001b[0;34m[\u001b[0m\u001b[0;34m[\u001b[0m\u001b[0;36m0\u001b[0m\u001b[0;34m,\u001b[0m\u001b[0;36m1\u001b[0m\u001b[0;34m,\u001b[0m\u001b[0;36m2\u001b[0m\u001b[0;34m]\u001b[0m\u001b[0;34m,\u001b[0m\u001b[0;34m[\u001b[0m\u001b[0;36m0\u001b[0m\u001b[0;34m,\u001b[0m\u001b[0;36m1\u001b[0m\u001b[0;34m,\u001b[0m\u001b[0;36m0\u001b[0m\u001b[0;34m]\u001b[0m\u001b[0;34m]\u001b[0m\u001b[0;31m#取出各个位置的值，(0,0),(1,1),(2,0)坐标\u001b[0m\u001b[0;34m\u001b[0m\u001b[0m\n\u001b[1;32m      3\u001b[0m \u001b[0mprint\u001b[0m \u001b[0;34m(\u001b[0m\u001b[0md\u001b[0m\u001b[0;34m.\u001b[0m\u001b[0mshape\u001b[0m\u001b[0;34m)\u001b[0m \u001b[0;31m#三维数组\u001b[0m\u001b[0;34m\u001b[0m\u001b[0m\n",
      "\u001b[0;31mNameError\u001b[0m: name 'a' is not defined"
     ]
    }
   ],
   "source": [
    "print (a)\n",
    "d = a[[0,1,2],[0,1,0]]#取出各个位置的值，(0,0),(1,1),(2,0)坐标\n",
    "print (d.shape) #三维数组"
   ]
  },
  {
   "cell_type": "code",
   "execution_count": 14,
   "metadata": {},
   "outputs": [
    {
     "ename": "NameError",
     "evalue": "name 'a' is not defined",
     "output_type": "error",
     "traceback": [
      "\u001b[0;31m---------------------------------------------------------------------------\u001b[0m",
      "\u001b[0;31mNameError\u001b[0m                                 Traceback (most recent call last)",
      "\u001b[0;32m<ipython-input-14-2e45f2bc8788>\u001b[0m in \u001b[0;36m<module>\u001b[0;34m()\u001b[0m\n\u001b[0;32m----> 1\u001b[0;31m \u001b[0mprint\u001b[0m \u001b[0;34m(\u001b[0m\u001b[0mnp\u001b[0m\u001b[0;34m.\u001b[0m\u001b[0marray\u001b[0m\u001b[0;34m(\u001b[0m\u001b[0;34m[\u001b[0m\u001b[0ma\u001b[0m\u001b[0;34m[\u001b[0m\u001b[0;36m0\u001b[0m\u001b[0;34m,\u001b[0m\u001b[0;36m0\u001b[0m\u001b[0;34m]\u001b[0m\u001b[0;34m,\u001b[0m\u001b[0ma\u001b[0m\u001b[0;34m[\u001b[0m\u001b[0;36m1\u001b[0m\u001b[0;34m,\u001b[0m\u001b[0;36m1\u001b[0m\u001b[0;34m]\u001b[0m\u001b[0;34m,\u001b[0m\u001b[0ma\u001b[0m\u001b[0;34m[\u001b[0m\u001b[0;36m2\u001b[0m\u001b[0;34m,\u001b[0m\u001b[0;36m0\u001b[0m\u001b[0;34m]\u001b[0m\u001b[0;34m]\u001b[0m\u001b[0;34m)\u001b[0m\u001b[0;34m)\u001b[0m \u001b[0;31m#取出3个值组成3维数组。\u001b[0m\u001b[0;34m\u001b[0m\u001b[0m\n\u001b[0m",
      "\u001b[0;31mNameError\u001b[0m: name 'a' is not defined"
     ]
    }
   ],
   "source": [
    "print (np.array([a[0,0],a[1,1],a[2,0]])) #取出3个值组成3维数组。"
   ]
  },
  {
   "cell_type": "code",
   "execution_count": 15,
   "metadata": {},
   "outputs": [
    {
     "ename": "NameError",
     "evalue": "name 'a' is not defined",
     "output_type": "error",
     "traceback": [
      "\u001b[0;31m---------------------------------------------------------------------------\u001b[0m",
      "\u001b[0;31mNameError\u001b[0m                                 Traceback (most recent call last)",
      "\u001b[0;32m<ipython-input-15-926137bbc67d>\u001b[0m in \u001b[0;36m<module>\u001b[0;34m()\u001b[0m\n\u001b[0;32m----> 1\u001b[0;31m \u001b[0mprint\u001b[0m \u001b[0;34m(\u001b[0m\u001b[0ma\u001b[0m\u001b[0;34m)\u001b[0m\u001b[0;34m\u001b[0m\u001b[0m\n\u001b[0m\u001b[1;32m      2\u001b[0m \u001b[0mprint\u001b[0m\u001b[0;34m(\u001b[0m\u001b[0ma\u001b[0m\u001b[0;34m[\u001b[0m\u001b[0;34m[\u001b[0m\u001b[0;36m0\u001b[0m\u001b[0;34m,\u001b[0m\u001b[0;36m0\u001b[0m\u001b[0;34m]\u001b[0m\u001b[0;34m,\u001b[0m\u001b[0;34m[\u001b[0m\u001b[0;36m1\u001b[0m\u001b[0;34m,\u001b[0m\u001b[0;36m0\u001b[0m\u001b[0;34m]\u001b[0m\u001b[0;34m]\u001b[0m\u001b[0;34m)\u001b[0m \u001b[0;31m#(0,1),(0,0)坐标\u001b[0m\u001b[0;34m\u001b[0m\u001b[0m\n\u001b[1;32m      3\u001b[0m \u001b[0mprint\u001b[0m\u001b[0;34m(\u001b[0m\u001b[0mnp\u001b[0m\u001b[0;34m.\u001b[0m\u001b[0marray\u001b[0m\u001b[0;34m(\u001b[0m\u001b[0;34m[\u001b[0m\u001b[0ma\u001b[0m\u001b[0;34m[\u001b[0m\u001b[0;36m0\u001b[0m\u001b[0;34m,\u001b[0m\u001b[0;36m0\u001b[0m\u001b[0;34m]\u001b[0m\u001b[0;34m,\u001b[0m\u001b[0ma\u001b[0m\u001b[0;34m[\u001b[0m\u001b[0;36m0\u001b[0m\u001b[0;34m,\u001b[0m\u001b[0;36m1\u001b[0m\u001b[0;34m]\u001b[0m\u001b[0;34m]\u001b[0m\u001b[0;34m)\u001b[0m\u001b[0;34m)\u001b[0m\u001b[0;31m#（0,0),(0,1)坐标\u001b[0m\u001b[0;34m\u001b[0m\u001b[0m\n",
      "\u001b[0;31mNameError\u001b[0m: name 'a' is not defined"
     ]
    }
   ],
   "source": [
    "print (a)\n",
    "print(a[[0,0],[1,0]]) #(0,1),(0,0)坐标\n",
    "print(np.array([a[0,0],a[0,1]]))#（0,0),(0,1)坐标"
   ]
  },
  {
   "cell_type": "code",
   "execution_count": 16,
   "metadata": {},
   "outputs": [
    {
     "ename": "NameError",
     "evalue": "name 'a' is not defined",
     "output_type": "error",
     "traceback": [
      "\u001b[0;31m---------------------------------------------------------------------------\u001b[0m",
      "\u001b[0;31mNameError\u001b[0m                                 Traceback (most recent call last)",
      "\u001b[0;32m<ipython-input-16-a357654e7252>\u001b[0m in \u001b[0;36m<module>\u001b[0;34m()\u001b[0m\n\u001b[0;32m----> 1\u001b[0;31m \u001b[0mprint\u001b[0m \u001b[0;34m(\u001b[0m\u001b[0ma\u001b[0m\u001b[0;34m)\u001b[0m\u001b[0;34m\u001b[0m\u001b[0m\n\u001b[0m\u001b[1;32m      2\u001b[0m \u001b[0mb\u001b[0m \u001b[0;34m=\u001b[0m \u001b[0mnp\u001b[0m\u001b[0;34m.\u001b[0m\u001b[0marray\u001b[0m\u001b[0;34m(\u001b[0m\u001b[0;34m[\u001b[0m\u001b[0;36m0\u001b[0m\u001b[0;34m,\u001b[0m\u001b[0;36m2\u001b[0m\u001b[0;34m,\u001b[0m\u001b[0;36m1\u001b[0m\u001b[0;34m]\u001b[0m\u001b[0;34m)\u001b[0m\u001b[0;34m\u001b[0m\u001b[0m\n\u001b[1;32m      3\u001b[0m \u001b[0ma\u001b[0m\u001b[0;34m[\u001b[0m\u001b[0mnp\u001b[0m\u001b[0;34m.\u001b[0m\u001b[0marange\u001b[0m\u001b[0;34m(\u001b[0m\u001b[0;36m3\u001b[0m\u001b[0;34m)\u001b[0m\u001b[0;34m,\u001b[0m\u001b[0mb\u001b[0m\u001b[0;34m]\u001b[0m \u001b[0;31m#选择0-2行，列0，2，1\u001b[0m\u001b[0;34m\u001b[0m\u001b[0m\n",
      "\u001b[0;31mNameError\u001b[0m: name 'a' is not defined"
     ]
    }
   ],
   "source": [
    "print (a)\n",
    "b = np.array([0,2,1])\n",
    "a[np.arange(3),b] #选择0-2行，列0，2，1"
   ]
  },
  {
   "cell_type": "code",
   "execution_count": 17,
   "metadata": {},
   "outputs": [
    {
     "ename": "NameError",
     "evalue": "name 'a' is not defined",
     "output_type": "error",
     "traceback": [
      "\u001b[0;31m---------------------------------------------------------------------------\u001b[0m",
      "\u001b[0;31mNameError\u001b[0m                                 Traceback (most recent call last)",
      "\u001b[0;32m<ipython-input-17-e3b4f8a614e4>\u001b[0m in \u001b[0;36m<module>\u001b[0;34m()\u001b[0m\n\u001b[0;32m----> 1\u001b[0;31m \u001b[0ma\u001b[0m\u001b[0;34m[\u001b[0m\u001b[0mnp\u001b[0m\u001b[0;34m.\u001b[0m\u001b[0marange\u001b[0m\u001b[0;34m(\u001b[0m\u001b[0;36m3\u001b[0m\u001b[0;34m)\u001b[0m\u001b[0;34m,\u001b[0m\u001b[0mb\u001b[0m\u001b[0;34m]\u001b[0m \u001b[0;34m+=\u001b[0m \u001b[0;36m10\u001b[0m \u001b[0;31m#所选中的位置+10\u001b[0m\u001b[0;34m\u001b[0m\u001b[0m\n\u001b[0m\u001b[1;32m      2\u001b[0m \u001b[0mprint\u001b[0m \u001b[0;34m(\u001b[0m\u001b[0ma\u001b[0m\u001b[0;34m)\u001b[0m\u001b[0;34m\u001b[0m\u001b[0m\n",
      "\u001b[0;31mNameError\u001b[0m: name 'a' is not defined"
     ]
    }
   ],
   "source": [
    "a[np.arange(3),b] += 10 #所选中的位置+10\n",
    "print (a)"
   ]
  },
  {
   "cell_type": "code",
   "execution_count": 18,
   "metadata": {},
   "outputs": [
    {
     "ename": "NameError",
     "evalue": "name 'a' is not defined",
     "output_type": "error",
     "traceback": [
      "\u001b[0;31m---------------------------------------------------------------------------\u001b[0m",
      "\u001b[0;31mNameError\u001b[0m                                 Traceback (most recent call last)",
      "\u001b[0;32m<ipython-input-18-45402d90fa02>\u001b[0m in \u001b[0;36m<module>\u001b[0;34m()\u001b[0m\n\u001b[0;32m----> 1\u001b[0;31m \u001b[0mbool_index\u001b[0m \u001b[0;34m=\u001b[0m \u001b[0;34m(\u001b[0m\u001b[0ma\u001b[0m \u001b[0;34m>\u001b[0m \u001b[0;36m2\u001b[0m\u001b[0;34m)\u001b[0m\u001b[0;31m#可以利用数组判断,挑选符合条件的元素\u001b[0m\u001b[0;34m\u001b[0m\u001b[0m\n\u001b[0m\u001b[1;32m      2\u001b[0m \u001b[0mprint\u001b[0m \u001b[0;34m(\u001b[0m\u001b[0mbool_index\u001b[0m\u001b[0;34m)\u001b[0m\u001b[0;34m\u001b[0m\u001b[0m\n",
      "\u001b[0;31mNameError\u001b[0m: name 'a' is not defined"
     ]
    }
   ],
   "source": [
    "bool_index = (a > 2)#可以利用数组判断,挑选符合条件的元素\n",
    "print (bool_index)"
   ]
  },
  {
   "cell_type": "code",
   "execution_count": 19,
   "metadata": {},
   "outputs": [
    {
     "ename": "NameError",
     "evalue": "name 'a' is not defined",
     "output_type": "error",
     "traceback": [
      "\u001b[0;31m---------------------------------------------------------------------------\u001b[0m",
      "\u001b[0;31mNameError\u001b[0m                                 Traceback (most recent call last)",
      "\u001b[0;32m<ipython-input-19-234f87cea516>\u001b[0m in \u001b[0;36m<module>\u001b[0;34m()\u001b[0m\n\u001b[0;32m----> 1\u001b[0;31m \u001b[0mprint\u001b[0m \u001b[0;34m(\u001b[0m\u001b[0ma\u001b[0m\u001b[0;34m[\u001b[0m\u001b[0ma\u001b[0m\u001b[0;34m>\u001b[0m\u001b[0;36m2\u001b[0m\u001b[0;34m]\u001b[0m\u001b[0;34m)\u001b[0m\u001b[0;31m#取出大于2的元素，组成新数组\u001b[0m\u001b[0;34m\u001b[0m\u001b[0m\n\u001b[0m",
      "\u001b[0;31mNameError\u001b[0m: name 'a' is not defined"
     ]
    }
   ],
   "source": [
    "print (a[a>2])#取出大于2的元素，组成新数组"
   ]
  },
  {
   "cell_type": "markdown",
   "metadata": {},
   "source": [
    "## 求值运算"
   ]
  },
  {
   "cell_type": "code",
   "execution_count": 20,
   "metadata": {
    "collapsed": true
   },
   "outputs": [],
   "source": [
    "x = np.array([[1,2],[3,4]],dtype=np.float64)\n",
    "y = np.array([[5,6],[7,8]],dtype=np.float64)"
   ]
  },
  {
   "cell_type": "code",
   "execution_count": 21,
   "metadata": {},
   "outputs": [
    {
     "name": "stdout",
     "output_type": "stream",
     "text": [
      "[[ 1.  2.]\n",
      " [ 3.  4.]]\n",
      "[[ 5.  6.]\n",
      " [ 7.  8.]]\n"
     ]
    }
   ],
   "source": [
    "print (x)\n",
    "print (y)"
   ]
  },
  {
   "cell_type": "code",
   "execution_count": 22,
   "metadata": {},
   "outputs": [
    {
     "name": "stdout",
     "output_type": "stream",
     "text": [
      "(2, 2)\n",
      "(2, 2)\n"
     ]
    }
   ],
   "source": [
    "print (x.shape)\n",
    "print (y.shape)"
   ]
  },
  {
   "cell_type": "code",
   "execution_count": 23,
   "metadata": {},
   "outputs": [
    {
     "name": "stdout",
     "output_type": "stream",
     "text": [
      "[[  6.   8.]\n",
      " [ 10.  12.]]\n"
     ]
    }
   ],
   "source": [
    "print (x + y) #逐元素求和"
   ]
  },
  {
   "cell_type": "code",
   "execution_count": 24,
   "metadata": {},
   "outputs": [
    {
     "data": {
      "text/plain": [
       "array([[-4., -4.],\n",
       "       [-4., -4.]])"
      ]
     },
     "execution_count": 24,
     "metadata": {},
     "output_type": "execute_result"
    }
   ],
   "source": [
    "x-y #逐元素做差"
   ]
  },
  {
   "cell_type": "code",
   "execution_count": 25,
   "metadata": {},
   "outputs": [
    {
     "data": {
      "text/plain": [
       "array([[-4., -4.],\n",
       "       [-4., -4.]])"
      ]
     },
     "execution_count": 25,
     "metadata": {},
     "output_type": "execute_result"
    }
   ],
   "source": [
    "#或者调用方法\n",
    "np.subtract(x,y)"
   ]
  },
  {
   "cell_type": "markdown",
   "metadata": {},
   "source": [
    "逐个元素相乘"
   ]
  },
  {
   "cell_type": "code",
   "execution_count": 26,
   "metadata": {},
   "outputs": [
    {
     "data": {
      "text/plain": [
       "array([[ 0.2       ,  0.33333333],\n",
       "       [ 0.42857143,  0.5       ]])"
      ]
     },
     "execution_count": 26,
     "metadata": {},
     "output_type": "execute_result"
    }
   ],
   "source": [
    "x/y #逐个元素相除"
   ]
  },
  {
   "cell_type": "code",
   "execution_count": 27,
   "metadata": {},
   "outputs": [
    {
     "data": {
      "text/plain": [
       "array([[ 0.2       ,  0.33333333],\n",
       "       [ 0.42857143,  0.5       ]])"
      ]
     },
     "execution_count": 27,
     "metadata": {},
     "output_type": "execute_result"
    }
   ],
   "source": [
    "np.divide(x,y)#逐个元素相除"
   ]
  },
  {
   "cell_type": "code",
   "execution_count": 28,
   "metadata": {},
   "outputs": [
    {
     "data": {
      "text/plain": [
       "array([[ 1.        ,  1.41421356],\n",
       "       [ 1.73205081,  2.        ]])"
      ]
     },
     "execution_count": 28,
     "metadata": {},
     "output_type": "execute_result"
    }
   ],
   "source": [
    "np.sqrt(x) #逐元素开方"
   ]
  },
  {
   "cell_type": "code",
   "execution_count": 29,
   "metadata": {},
   "outputs": [
    {
     "name": "stdout",
     "output_type": "stream",
     "text": [
      "(2,)\n"
     ]
    }
   ],
   "source": [
    "v = np.array([9,10])\n",
    "w = np.array([10,11])\n",
    "print (v.shape)"
   ]
  },
  {
   "cell_type": "markdown",
   "metadata": {},
   "source": [
    "求向量内积"
   ]
  },
  {
   "cell_type": "code",
   "execution_count": 30,
   "metadata": {},
   "outputs": [
    {
     "data": {
      "text/plain": [
       "200"
      ]
     },
     "execution_count": 30,
     "metadata": {},
     "output_type": "execute_result"
    }
   ],
   "source": [
    "v.dot(w) #9*10 + 10 *11"
   ]
  },
  {
   "cell_type": "code",
   "execution_count": 31,
   "metadata": {},
   "outputs": [
    {
     "data": {
      "text/plain": [
       "200"
      ]
     },
     "execution_count": 31,
     "metadata": {},
     "output_type": "execute_result"
    }
   ],
   "source": [
    "np.dot(v,w)"
   ]
  },
  {
   "cell_type": "code",
   "execution_count": 32,
   "metadata": {},
   "outputs": [
    {
     "name": "stdout",
     "output_type": "stream",
     "text": [
      "[[1 2]\n",
      " [3 4]]\n",
      "[[5 6]\n",
      " [7 8]]\n"
     ]
    }
   ],
   "source": [
    "x = np.array([[1,2],[3,4]])\n",
    "y = np.array([[5,6],[7,8]])\n",
    "print (x)\n",
    "print (y)"
   ]
  },
  {
   "cell_type": "code",
   "execution_count": 33,
   "metadata": {},
   "outputs": [
    {
     "name": "stdout",
     "output_type": "stream",
     "text": [
      "[[19 22]\n",
      " [43 50]]\n"
     ]
    }
   ],
   "source": [
    "print (x.dot(y)) #[[(1*5+2*7) ,(1*6 + 2*8)][(3 * 5 +4 *7),(3*6 +4*8)]]"
   ]
  },
  {
   "cell_type": "code",
   "execution_count": 34,
   "metadata": {},
   "outputs": [
    {
     "name": "stdout",
     "output_type": "stream",
     "text": [
      "[29 67]\n"
     ]
    }
   ],
   "source": [
    "print (x.dot(v))#2X2 * 2X1 = 2X1"
   ]
  },
  {
   "cell_type": "markdown",
   "metadata": {},
   "source": [
    "转置"
   ]
  },
  {
   "cell_type": "code",
   "execution_count": 35,
   "metadata": {},
   "outputs": [
    {
     "data": {
      "text/plain": [
       "array([[1, 2],\n",
       "       [3, 4]])"
      ]
     },
     "execution_count": 35,
     "metadata": {},
     "output_type": "execute_result"
    }
   ],
   "source": [
    "x"
   ]
  },
  {
   "cell_type": "code",
   "execution_count": 36,
   "metadata": {},
   "outputs": [
    {
     "data": {
      "text/plain": [
       "array([[1, 3],\n",
       "       [2, 4]])"
      ]
     },
     "execution_count": 36,
     "metadata": {},
     "output_type": "execute_result"
    }
   ],
   "source": [
    "x.T"
   ]
  },
  {
   "cell_type": "code",
   "execution_count": 37,
   "metadata": {},
   "outputs": [
    {
     "data": {
      "text/plain": [
       "(2,)"
      ]
     },
     "execution_count": 37,
     "metadata": {},
     "output_type": "execute_result"
    }
   ],
   "source": [
    "#一维数组转置还是自己\n",
    "v.shape"
   ]
  },
  {
   "cell_type": "code",
   "execution_count": 38,
   "metadata": {},
   "outputs": [
    {
     "data": {
      "text/plain": [
       "(2,)"
      ]
     },
     "execution_count": 38,
     "metadata": {},
     "output_type": "execute_result"
    }
   ],
   "source": [
    "v.T.shape"
   ]
  },
  {
   "cell_type": "code",
   "execution_count": 39,
   "metadata": {},
   "outputs": [
    {
     "name": "stdout",
     "output_type": "stream",
     "text": [
      "[[1 2 3]] (1, 3)\n"
     ]
    }
   ],
   "source": [
    "#二维就不一样\n",
    "w= np.array([[1,2,3]])\n",
    "print(w,w.shape)"
   ]
  },
  {
   "cell_type": "code",
   "execution_count": 40,
   "metadata": {},
   "outputs": [
    {
     "name": "stdout",
     "output_type": "stream",
     "text": [
      "[[1]\n",
      " [2]\n",
      " [3]]\n"
     ]
    }
   ],
   "source": [
    "print(w.T)"
   ]
  },
  {
   "cell_type": "code",
   "execution_count": 41,
   "metadata": {},
   "outputs": [
    {
     "data": {
      "text/plain": [
       "array([[ 0.25857571, -0.15306753,  0.38472972],\n",
       "       [ 0.88227336,  1.00800704, -0.56533634],\n",
       "       [-1.54096816,  1.4621387 , -0.31546223],\n",
       "       [-0.43436745, -0.70207447,  1.61481342],\n",
       "       [-0.96142199,  1.19171133,  1.12074492],\n",
       "       [ 1.62684494, -0.3818875 ,  0.25209027]])"
      ]
     },
     "execution_count": 41,
     "metadata": {},
     "output_type": "execute_result"
    }
   ],
   "source": [
    "arr = np.random.randn(6,3) #6X3的随机矩阵\n",
    "arr"
   ]
  },
  {
   "cell_type": "code",
   "execution_count": 42,
   "metadata": {},
   "outputs": [
    {
     "name": "stdout",
     "output_type": "stream",
     "text": [
      "[[ 6.97948235 -2.86540189 -1.28200159]\n",
      " [-2.86540189  5.23627995 -0.98438716]\n",
      " [-1.28200159 -0.98438716  4.4943796 ]]\n"
     ]
    }
   ],
   "source": [
    "print(arr.T.dot(arr)) #$X^T x X$ 3X6 * 6X3 得到3x3矩阵"
   ]
  },
  {
   "cell_type": "markdown",
   "metadata": {},
   "source": [
    "高维的tensor也可以转置"
   ]
  },
  {
   "cell_type": "code",
   "execution_count": 43,
   "metadata": {},
   "outputs": [
    {
     "data": {
      "text/plain": [
       "array([[[ 0,  1,  2,  3],\n",
       "        [ 4,  5,  6,  7]],\n",
       "\n",
       "       [[ 8,  9, 10, 11],\n",
       "        [12, 13, 14, 15]]])"
      ]
     },
     "execution_count": 43,
     "metadata": {},
     "output_type": "execute_result"
    }
   ],
   "source": [
    "arr = np.arange(16).reshape(2,2,4)\n",
    "arr"
   ]
  },
  {
   "cell_type": "code",
   "execution_count": 44,
   "metadata": {},
   "outputs": [
    {
     "name": "stdout",
     "output_type": "stream",
     "text": [
      "[[[ 0  1  2  3]\n",
      "  [ 8  9 10 11]]\n",
      "\n",
      " [[ 4  5  6  7]\n",
      "  [12 13 14 15]]]\n"
     ]
    }
   ],
   "source": [
    "print(arr.transpose((1,0,2))) "
   ]
  },
  {
   "cell_type": "markdown",
   "metadata": {},
   "source": [
    "默认0，1，2；三维第二和第三交换行,transpose实际上就是把第二个维度放在最外面，第一个维度放到第二个维度，第三个维度保持不变"
   ]
  },
  {
   "cell_type": "code",
   "execution_count": 45,
   "metadata": {},
   "outputs": [
    {
     "name": "stdout",
     "output_type": "stream",
     "text": [
      "[[[ 0  4]\n",
      "  [ 1  5]\n",
      "  [ 2  6]\n",
      "  [ 3  7]]\n",
      "\n",
      " [[ 8 12]\n",
      "  [ 9 13]\n",
      "  [10 14]\n",
      "  [11 15]]]\n"
     ]
    }
   ],
   "source": [
    "print(arr.transpose(0,2,1))"
   ]
  },
  {
   "cell_type": "code",
   "execution_count": 46,
   "metadata": {},
   "outputs": [
    {
     "name": "stdout",
     "output_type": "stream",
     "text": [
      "[[[ 0  8]\n",
      "  [ 4 12]]\n",
      "\n",
      " [[ 1  9]\n",
      "  [ 5 13]]\n",
      "\n",
      " [[ 2 10]\n",
      "  [ 6 14]]\n",
      "\n",
      " [[ 3 11]\n",
      "  [ 7 15]]]\n"
     ]
    }
   ],
   "source": [
    "print (arr.transpose(2,1,0))"
   ]
  },
  {
   "cell_type": "code",
   "execution_count": 47,
   "metadata": {},
   "outputs": [
    {
     "name": "stdout",
     "output_type": "stream",
     "text": [
      "[[[ 0  4]\n",
      "  [ 1  5]\n",
      "  [ 2  6]\n",
      "  [ 3  7]]\n",
      "\n",
      " [[ 8 12]\n",
      "  [ 9 13]\n",
      "  [10 14]\n",
      "  [11 15]]]\n"
     ]
    }
   ],
   "source": [
    "print (arr.swapaxes(1,2))#相当于（arr.transpose(0,2,1)）交换1，2"
   ]
  },
  {
   "cell_type": "code",
   "execution_count": 48,
   "metadata": {},
   "outputs": [
    {
     "name": "stdout",
     "output_type": "stream",
     "text": [
      "[[[ 0  1  2  3]\n",
      "  [ 4  5  6  7]\n",
      "  [ 8  9 10 11]]\n",
      "\n",
      " [[12 13 14 15]\n",
      "  [16 17 18 19]\n",
      "  [20 21 22 23]]]\n",
      "[[0 1]\n",
      " [2 3]\n",
      " [4 5]\n",
      " [6 7]]\n"
     ]
    }
   ],
   "source": [
    "x = np.arange(24).reshape(2,3,4)\n",
    "y = np.arange(8).reshape(4,2)\n",
    "print (x)\n",
    "print (y)"
   ]
  },
  {
   "cell_type": "code",
   "execution_count": 49,
   "metadata": {},
   "outputs": [
    {
     "name": "stdout",
     "output_type": "stream",
     "text": [
      "(2, 3, 2)\n"
     ]
    }
   ],
   "source": [
    "print (np.matmul(x,y).shape)#这种情况同dot"
   ]
  },
  {
   "cell_type": "code",
   "execution_count": 50,
   "metadata": {},
   "outputs": [
    {
     "name": "stdout",
     "output_type": "stream",
     "text": [
      "(2, 3, 2)\n"
     ]
    }
   ],
   "source": [
    "print (x.dot(y).shape)"
   ]
  },
  {
   "cell_type": "code",
   "execution_count": 51,
   "metadata": {},
   "outputs": [
    {
     "name": "stdout",
     "output_type": "stream",
     "text": [
      "(2, 3, 2, 2)\n"
     ]
    }
   ],
   "source": [
    "x = np.arange(24).reshape(2,3,4)\n",
    "y =  np.arange(16).reshape(2,4,2)\n",
    "print (x.dot(y).shape)#4被cancel掉了"
   ]
  },
  {
   "cell_type": "code",
   "execution_count": 52,
   "metadata": {},
   "outputs": [
    {
     "data": {
      "text/plain": [
       "(2, 3, 2)"
      ]
     },
     "execution_count": 52,
     "metadata": {},
     "output_type": "execute_result"
    }
   ],
   "source": [
    "np.matmul(x,y).shape#这个需要区分开"
   ]
  },
  {
   "cell_type": "code",
   "execution_count": 53,
   "metadata": {},
   "outputs": [
    {
     "name": "stdout",
     "output_type": "stream",
     "text": [
      "[[1 2]\n",
      " [3 4]]\n"
     ]
    }
   ],
   "source": [
    "x = np.array([[1,2],[3,4]])\n",
    "print (x)"
   ]
  },
  {
   "cell_type": "code",
   "execution_count": 54,
   "metadata": {},
   "outputs": [
    {
     "name": "stdout",
     "output_type": "stream",
     "text": [
      "10\n",
      "10\n"
     ]
    }
   ],
   "source": [
    "print (np.sum(x))\n",
    "print (x.sum())"
   ]
  },
  {
   "cell_type": "code",
   "execution_count": 55,
   "metadata": {},
   "outputs": [
    {
     "name": "stdout",
     "output_type": "stream",
     "text": [
      "[4 6]\n",
      "[3 7]\n"
     ]
    }
   ],
   "source": [
    "print (x.sum(axis=0))#对列求和，相当于把第一维压平\n",
    "print (x.sum(axis=1)) #对行求和"
   ]
  },
  {
   "cell_type": "code",
   "execution_count": 56,
   "metadata": {},
   "outputs": [
    {
     "name": "stdout",
     "output_type": "stream",
     "text": [
      "2.5\n",
      "[ 2.  3.]\n",
      "[ 1.5  3.5]\n",
      "[ 2.  3.]\n",
      "[ 1.5  3.5]\n"
     ]
    }
   ],
   "source": [
    "#求平均\n",
    "print (np.mean(x))\n",
    "print (np.mean(x,axis=0))\n",
    "print (np.mean(x,axis=1))\n",
    "print (x.mean(axis=0))\n",
    "print (x.mean(axis=1))"
   ]
  },
  {
   "cell_type": "code",
   "execution_count": 57,
   "metadata": {},
   "outputs": [
    {
     "name": "stdout",
     "output_type": "stream",
     "text": [
      "[[1 2]\n",
      " [4 6]]\n",
      "[[1 3]\n",
      " [3 7]]\n"
     ]
    }
   ],
   "source": [
    "print (x.cumsum(axis=0))\n",
    "print (x.cumsum(axis=1))"
   ]
  },
  {
   "cell_type": "code",
   "execution_count": 58,
   "metadata": {},
   "outputs": [
    {
     "name": "stdout",
     "output_type": "stream",
     "text": [
      "[[1 2]\n",
      " [3 8]]\n",
      "[[ 1  2]\n",
      " [ 3 12]]\n"
     ]
    }
   ],
   "source": [
    "print (x.cumprod(axis=0))\n",
    "print (x.cumprod(axis=1))"
   ]
  },
  {
   "cell_type": "markdown",
   "metadata": {},
   "source": [
    "## 数组排序"
   ]
  },
  {
   "cell_type": "code",
   "execution_count": 59,
   "metadata": {},
   "outputs": [
    {
     "data": {
      "text/plain": [
       "array([  3.56144311,   3.02624311,  -2.81489167,  -1.12818582,\n",
       "        23.18170226,  -6.71386622,  -0.86633966,   1.08732893])"
      ]
     },
     "execution_count": 59,
     "metadata": {},
     "output_type": "execute_result"
    }
   ],
   "source": [
    "arr = np.random.randn(8) *10\n",
    "arr"
   ]
  },
  {
   "cell_type": "code",
   "execution_count": 60,
   "metadata": {},
   "outputs": [
    {
     "name": "stdout",
     "output_type": "stream",
     "text": [
      "[ -6.71386622  -2.81489167  -1.12818582  -0.86633966   1.08732893\n",
      "   3.02624311   3.56144311  23.18170226]\n"
     ]
    }
   ],
   "source": [
    "arr.sort()\n",
    "print (arr)"
   ]
  },
  {
   "cell_type": "code",
   "execution_count": 61,
   "metadata": {},
   "outputs": [
    {
     "name": "stdout",
     "output_type": "stream",
     "text": [
      "[[  0.21313362  -3.98443798  10.44714247]\n",
      " [ 13.55268855  -7.14920449   9.58088114]\n",
      " [-15.11762294  -1.43975415 -15.71070954]\n",
      " [ -0.62094832  -0.65329305  -3.82302093]\n",
      " [  9.60884015  -0.87452999  -8.35839186]]\n"
     ]
    }
   ],
   "source": [
    "#二维数组排序\n",
    "arr = np.random.randn(5,3)*10\n",
    "print (arr)"
   ]
  },
  {
   "cell_type": "code",
   "execution_count": 62,
   "metadata": {},
   "outputs": [
    {
     "name": "stdout",
     "output_type": "stream",
     "text": [
      "[[ -3.98443798   0.21313362  10.44714247]\n",
      " [ -7.14920449   9.58088114  13.55268855]\n",
      " [-15.71070954 -15.11762294  -1.43975415]\n",
      " [ -3.82302093  -0.65329305  -0.62094832]\n",
      " [ -8.35839186  -0.87452999   9.60884015]]\n",
      "\n",
      "[[ -3.98443798   0.21313362  10.44714247]\n",
      " [ -7.14920449   9.58088114  13.55268855]\n",
      " [-15.71070954 -15.11762294  -1.43975415]\n",
      " [ -3.82302093  -0.65329305  -0.62094832]\n",
      " [ -8.35839186  -0.87452999   9.60884015]]\n"
     ]
    }
   ],
   "source": [
    "arr.sort(1) #对第一维进行排序，相当于列排序\n",
    "print (arr)\n",
    "arr.sort()\n",
    "print ()\n",
    "print (arr)"
   ]
  },
  {
   "cell_type": "code",
   "execution_count": 63,
   "metadata": {},
   "outputs": [
    {
     "name": "stdout",
     "output_type": "stream",
     "text": [
      "[ -2.97344454e+00  -2.92357359e+00  -2.68387981e+00  -2.46726443e+00\n",
      "  -2.46513853e+00  -2.44370897e+00  -2.43522850e+00  -2.43226540e+00\n",
      "  -2.30831607e+00  -2.22931320e+00  -2.20767246e+00  -2.17839596e+00\n",
      "  -2.16122854e+00  -2.08014112e+00  -2.02718625e+00  -2.00074299e+00\n",
      "  -2.00023103e+00  -1.96967482e+00  -1.92960616e+00  -1.92113358e+00\n",
      "  -1.91399075e+00  -1.89286136e+00  -1.87352387e+00  -1.87321614e+00\n",
      "  -1.86296690e+00  -1.84464791e+00  -1.81197709e+00  -1.75810066e+00\n",
      "  -1.75770152e+00  -1.75516064e+00  -1.72139718e+00  -1.70059623e+00\n",
      "  -1.68965407e+00  -1.68209022e+00  -1.67997850e+00  -1.67406200e+00\n",
      "  -1.66284720e+00  -1.65946703e+00  -1.65804707e+00  -1.62520577e+00\n",
      "  -1.62330679e+00  -1.60500409e+00  -1.59980210e+00  -1.59376164e+00\n",
      "  -1.59265546e+00  -1.58955720e+00  -1.57877378e+00  -1.56896966e+00\n",
      "  -1.56384784e+00  -1.56313668e+00  -1.55039347e+00  -1.54567832e+00\n",
      "  -1.54248281e+00  -1.52123544e+00  -1.51570866e+00  -1.50590097e+00\n",
      "  -1.50375532e+00  -1.50085848e+00  -1.49944956e+00  -1.48995613e+00\n",
      "  -1.48043273e+00  -1.47798988e+00  -1.47303035e+00  -1.47106052e+00\n",
      "  -1.46985622e+00  -1.45183032e+00  -1.42191645e+00  -1.42021597e+00\n",
      "  -1.41875453e+00  -1.41480200e+00  -1.41391999e+00  -1.41152820e+00\n",
      "  -1.40952706e+00  -1.40207780e+00  -1.39928342e+00  -1.39233052e+00\n",
      "  -1.38451895e+00  -1.37455345e+00  -1.37227262e+00  -1.35613812e+00\n",
      "  -1.34975570e+00  -1.34197497e+00  -1.33227599e+00  -1.32971169e+00\n",
      "  -1.32597024e+00  -1.30264735e+00  -1.29872866e+00  -1.29789910e+00\n",
      "  -1.27980604e+00  -1.27375536e+00  -1.25485901e+00  -1.25301413e+00\n",
      "  -1.24370496e+00  -1.23913869e+00  -1.23792789e+00  -1.23739180e+00\n",
      "  -1.23729367e+00  -1.23002878e+00  -1.22334641e+00  -1.22327640e+00\n",
      "  -1.21787634e+00  -1.21178342e+00  -1.19902098e+00  -1.19884596e+00\n",
      "  -1.19364596e+00  -1.18942962e+00  -1.18871098e+00  -1.18511079e+00\n",
      "  -1.18331200e+00  -1.17800270e+00  -1.16139514e+00  -1.14510746e+00\n",
      "  -1.14179167e+00  -1.14058123e+00  -1.13827789e+00  -1.12976166e+00\n",
      "  -1.12815826e+00  -1.11656010e+00  -1.11504259e+00  -1.11364952e+00\n",
      "  -1.11076124e+00  -1.10697899e+00  -1.10338406e+00  -1.10107351e+00\n",
      "  -1.09926262e+00  -1.09784527e+00  -1.09508035e+00  -1.08756323e+00\n",
      "  -1.07144923e+00  -1.06426946e+00  -1.06110101e+00  -1.05952901e+00\n",
      "  -1.05679607e+00  -1.05623928e+00  -1.05515013e+00  -1.05259272e+00\n",
      "  -1.05239483e+00  -1.04858684e+00  -1.03491076e+00  -1.03304683e+00\n",
      "  -1.03266841e+00  -1.03180350e+00  -1.02632791e+00  -1.02374237e+00\n",
      "  -1.01315697e+00  -1.00513894e+00  -1.00198637e+00  -1.00159560e+00\n",
      "  -9.96714278e-01  -9.91333347e-01  -9.81170216e-01  -9.78621284e-01\n",
      "  -9.77186036e-01  -9.74607618e-01  -9.71844581e-01  -9.69945215e-01\n",
      "  -9.68281612e-01  -9.65015799e-01  -9.64629459e-01  -9.57219660e-01\n",
      "  -9.49995699e-01  -9.47607354e-01  -9.47494329e-01  -9.41962299e-01\n",
      "  -9.36713789e-01  -9.35903737e-01  -9.32261876e-01  -9.31361915e-01\n",
      "  -9.24611890e-01  -9.21052033e-01  -9.19945936e-01  -9.11697874e-01\n",
      "  -9.09552374e-01  -9.08096792e-01  -9.00745163e-01  -8.99245233e-01\n",
      "  -8.93539176e-01  -8.72873209e-01  -8.62693458e-01  -8.57334722e-01\n",
      "  -8.56536294e-01  -8.55867105e-01  -8.52446538e-01  -8.48922502e-01\n",
      "  -8.48538929e-01  -8.48446627e-01  -8.45042177e-01  -8.43169768e-01\n",
      "  -8.42818209e-01  -8.41868157e-01  -8.24436809e-01  -8.22528868e-01\n",
      "  -8.07083756e-01  -8.07005096e-01  -7.99190832e-01  -7.94357832e-01\n",
      "  -7.93526991e-01  -7.87668111e-01  -7.86984955e-01  -7.84618901e-01\n",
      "  -7.79603670e-01  -7.76145938e-01  -7.75455286e-01  -7.74622711e-01\n",
      "  -7.64929044e-01  -7.62357015e-01  -7.57345973e-01  -7.56133765e-01\n",
      "  -7.54697964e-01  -7.50937077e-01  -7.49283551e-01  -7.47464704e-01\n",
      "  -7.44708751e-01  -7.39916722e-01  -7.32419149e-01  -7.31910487e-01\n",
      "  -7.28764227e-01  -7.27983988e-01  -7.27621355e-01  -7.22687179e-01\n",
      "  -7.19807915e-01  -7.16702421e-01  -7.10456733e-01  -7.02358845e-01\n",
      "  -6.99804170e-01  -6.95935780e-01  -6.81977854e-01  -6.79195771e-01\n",
      "  -6.76487079e-01  -6.76014618e-01  -6.72180160e-01  -6.70191449e-01\n",
      "  -6.69070514e-01  -6.67329524e-01  -6.64256861e-01  -6.62185540e-01\n",
      "  -6.54843700e-01  -6.53450639e-01  -6.51050029e-01  -6.45002134e-01\n",
      "  -6.41160329e-01  -6.37455859e-01  -6.37428683e-01  -6.37319271e-01\n",
      "  -6.36047373e-01  -6.32802854e-01  -6.31285222e-01  -6.29112668e-01\n",
      "  -6.28325287e-01  -6.28172092e-01  -6.15833123e-01  -6.15700820e-01\n",
      "  -6.14997990e-01  -6.11606921e-01  -6.09869442e-01  -6.02001836e-01\n",
      "  -5.84323159e-01  -5.83177120e-01  -5.82271372e-01  -5.81632132e-01\n",
      "  -5.81167747e-01  -5.80135201e-01  -5.78694493e-01  -5.76168602e-01\n",
      "  -5.67564446e-01  -5.66461477e-01  -5.66171396e-01  -5.65677198e-01\n",
      "  -5.58408446e-01  -5.55038422e-01  -5.50919027e-01  -5.48100836e-01\n",
      "  -5.47059220e-01  -5.46537426e-01  -5.44732405e-01  -5.40915945e-01\n",
      "  -5.39973367e-01  -5.37433880e-01  -5.33626439e-01  -5.29732830e-01\n",
      "  -5.23126805e-01  -5.22573660e-01  -5.22375670e-01  -5.20685900e-01\n",
      "  -5.18282218e-01  -5.17617180e-01  -5.14626136e-01  -5.09807830e-01\n",
      "  -5.08977207e-01  -5.08035477e-01  -5.05564800e-01  -5.04354210e-01\n",
      "  -5.04279924e-01  -5.04124330e-01  -5.02356603e-01  -5.01577957e-01\n",
      "  -5.00032597e-01  -4.99845260e-01  -4.97249573e-01  -4.94731932e-01\n",
      "  -4.92768249e-01  -4.89599252e-01  -4.88725694e-01  -4.87311264e-01\n",
      "  -4.77492994e-01  -4.76974752e-01  -4.75757495e-01  -4.73947990e-01\n",
      "  -4.72420561e-01  -4.70060904e-01  -4.69625075e-01  -4.66616029e-01\n",
      "  -4.65636963e-01  -4.55298254e-01  -4.50156780e-01  -4.46642225e-01\n",
      "  -4.44883758e-01  -4.38811384e-01  -4.38628800e-01  -4.34921424e-01\n",
      "  -4.34819931e-01  -4.32575844e-01  -4.26965917e-01  -4.25868741e-01\n",
      "  -4.25742756e-01  -4.24650552e-01  -4.20940735e-01  -4.09253376e-01\n",
      "  -4.07876323e-01  -4.07375108e-01  -4.04360228e-01  -4.03472164e-01\n",
      "  -4.02485782e-01  -4.00625612e-01  -3.97671617e-01  -3.96838443e-01\n",
      "  -3.96044313e-01  -3.95459001e-01  -3.89806650e-01  -3.86913923e-01\n",
      "  -3.83838129e-01  -3.74853821e-01  -3.72782418e-01  -3.64057111e-01\n",
      "  -3.56332739e-01  -3.51752193e-01  -3.50062718e-01  -3.37462433e-01\n",
      "  -3.34375228e-01  -3.28819274e-01  -3.28780452e-01  -3.27949566e-01\n",
      "  -3.26607741e-01  -3.21582201e-01  -3.15536639e-01  -3.15372431e-01\n",
      "  -3.14306213e-01  -3.13587342e-01  -3.12610040e-01  -3.11146859e-01\n",
      "  -3.09542786e-01  -3.04936782e-01  -3.03923693e-01  -3.02323682e-01\n",
      "  -2.86100140e-01  -2.85837383e-01  -2.81729877e-01  -2.80886680e-01\n",
      "  -2.80280744e-01  -2.74787172e-01  -2.67949360e-01  -2.67366184e-01\n",
      "  -2.63746127e-01  -2.62857222e-01  -2.60432350e-01  -2.57140350e-01\n",
      "  -2.57014613e-01  -2.53175671e-01  -2.52205735e-01  -2.48136826e-01\n",
      "  -2.45468882e-01  -2.45356374e-01  -2.41307267e-01  -2.35854554e-01\n",
      "  -2.30848853e-01  -2.30724070e-01  -2.29888182e-01  -2.27497916e-01\n",
      "  -2.27016778e-01  -2.25623946e-01  -2.18179427e-01  -2.16216921e-01\n",
      "  -2.15138184e-01  -2.04016766e-01  -2.02605245e-01  -1.99955580e-01\n",
      "  -1.97042486e-01  -1.96711328e-01  -1.96096747e-01  -1.94890011e-01\n",
      "  -1.94525637e-01  -1.94043064e-01  -1.93240102e-01  -1.93180993e-01\n",
      "  -1.92674212e-01  -1.92301742e-01  -1.91702403e-01  -1.90073561e-01\n",
      "  -1.89996640e-01  -1.89860365e-01  -1.89075672e-01  -1.87819566e-01\n",
      "  -1.81691704e-01  -1.70557053e-01  -1.64985361e-01  -1.62685272e-01\n",
      "  -1.60856487e-01  -1.59912628e-01  -1.57437915e-01  -1.51263294e-01\n",
      "  -1.49199597e-01  -1.47451381e-01  -1.38032278e-01  -1.33058813e-01\n",
      "  -1.32403716e-01  -1.31143868e-01  -1.30437609e-01  -1.26719304e-01\n",
      "  -1.25853784e-01  -1.24868652e-01  -1.24152469e-01  -1.17016899e-01\n",
      "  -1.13333298e-01  -1.11872704e-01  -1.11650590e-01  -1.09996844e-01\n",
      "  -1.07068467e-01  -1.05350196e-01  -1.02446356e-01  -9.89536491e-02\n",
      "  -9.24950059e-02  -9.17090895e-02  -9.11807209e-02  -9.00298854e-02\n",
      "  -8.77666610e-02  -8.13244790e-02  -7.98139004e-02  -7.20442343e-02\n",
      "  -7.15172056e-02  -7.00516206e-02  -6.90379350e-02  -6.56672933e-02\n",
      "  -6.45226174e-02  -6.44637873e-02  -6.34785163e-02  -5.40508717e-02\n",
      "  -5.27201041e-02  -4.72320942e-02  -4.16952325e-02  -3.99885646e-02\n",
      "  -3.83769083e-02  -3.68139183e-02  -3.67947958e-02  -3.49671088e-02\n",
      "  -2.76062443e-02  -1.96727883e-02  -1.91848970e-02  -4.47164675e-03\n",
      "  -2.67760762e-03  -1.26385163e-03   1.62328941e-03   5.35084359e-03\n",
      "   5.40140211e-03   6.44436450e-03   6.92205431e-03   8.90952700e-03\n",
      "   9.19126835e-03   9.77693466e-03   1.23857943e-02   1.36618733e-02\n",
      "   2.14894568e-02   2.32890947e-02   2.33046007e-02   2.54418613e-02\n",
      "   2.74449060e-02   2.79505697e-02   2.86520136e-02   3.00342521e-02\n",
      "   3.05555950e-02   3.06251822e-02   3.13684093e-02   4.02664082e-02\n",
      "   4.19998438e-02   4.52842912e-02   4.61799076e-02   4.99544544e-02\n",
      "   5.00793788e-02   5.05843947e-02   5.05853892e-02   5.12013348e-02\n",
      "   5.33030838e-02   5.40656534e-02   5.45244447e-02   5.59780276e-02\n",
      "   5.79018131e-02   6.11406201e-02   6.61587667e-02   7.00738817e-02\n",
      "   7.03575473e-02   7.06352455e-02   7.34648510e-02   7.34817333e-02\n",
      "   7.53122571e-02   7.93570976e-02   8.09612986e-02   8.20173072e-02\n",
      "   8.30517445e-02   8.31839996e-02   8.69296330e-02   8.72830064e-02\n",
      "   9.11027142e-02   9.29915977e-02   9.49691133e-02   9.54956193e-02\n",
      "   9.59248187e-02   9.71640576e-02   9.72628314e-02   1.04307323e-01\n",
      "   1.05464746e-01   1.11177522e-01   1.13832771e-01   1.17218003e-01\n",
      "   1.17350944e-01   1.31224047e-01   1.34627483e-01   1.35190654e-01\n",
      "   1.36221841e-01   1.37464600e-01   1.39746791e-01   1.40472529e-01\n",
      "   1.43563775e-01   1.45172465e-01   1.49133665e-01   1.49287053e-01\n",
      "   1.50942902e-01   1.52948918e-01   1.57879048e-01   1.58720296e-01\n",
      "   1.59605145e-01   1.62062247e-01   1.62307498e-01   1.63163107e-01\n",
      "   1.66784286e-01   1.68589336e-01   1.68743145e-01   1.72598032e-01\n",
      "   1.76746742e-01   1.81558386e-01   1.81817423e-01   1.83718214e-01\n",
      "   1.84659837e-01   1.85625863e-01   1.85644647e-01   1.87611245e-01\n",
      "   1.87740332e-01   1.89459324e-01   1.90963330e-01   1.98343671e-01\n",
      "   2.00885426e-01   2.01813354e-01   2.04358123e-01   2.05169163e-01\n",
      "   2.05534898e-01   2.07531016e-01   2.11965450e-01   2.14520257e-01\n",
      "   2.14674870e-01   2.14713449e-01   2.16048826e-01   2.16701849e-01\n",
      "   2.16830374e-01   2.18746153e-01   2.21002429e-01   2.24157745e-01\n",
      "   2.29931694e-01   2.32863669e-01   2.40904119e-01   2.42300347e-01\n",
      "   2.42359813e-01   2.44168370e-01   2.45062864e-01   2.47442506e-01\n",
      "   2.56786361e-01   2.56909274e-01   2.64364815e-01   2.64384001e-01\n",
      "   2.67476762e-01   2.70964539e-01   2.72941658e-01   2.74226858e-01\n",
      "   2.74827319e-01   2.77188927e-01   2.83278857e-01   2.84787254e-01\n",
      "   2.85221185e-01   2.87068028e-01   2.90335788e-01   2.90651685e-01\n",
      "   2.92907068e-01   2.93801653e-01   3.02378314e-01   3.07258966e-01\n",
      "   3.09319386e-01   3.11472046e-01   3.21145219e-01   3.21338666e-01\n",
      "   3.21653705e-01   3.22413018e-01   3.23289073e-01   3.25149490e-01\n",
      "   3.27403151e-01   3.28381211e-01   3.36668140e-01   3.39950289e-01\n",
      "   3.40699243e-01   3.41954483e-01   3.42249037e-01   3.42409720e-01\n",
      "   3.42480831e-01   3.44572783e-01   3.45747926e-01   3.48782089e-01\n",
      "   3.49480435e-01   3.51918743e-01   3.52541254e-01   3.59202959e-01\n",
      "   3.62012590e-01   3.62586281e-01   3.63711834e-01   3.64453951e-01\n",
      "   3.65680039e-01   3.65808311e-01   3.70431666e-01   3.71537727e-01\n",
      "   3.71565896e-01   3.73711267e-01   3.75303530e-01   3.76203626e-01\n",
      "   3.76732353e-01   3.79165498e-01   3.81145577e-01   3.82481912e-01\n",
      "   3.90410100e-01   3.92716968e-01   3.94261385e-01   3.95136995e-01\n",
      "   3.96709427e-01   3.98914218e-01   4.00598583e-01   4.02621600e-01\n",
      "   4.05396666e-01   4.08650846e-01   4.09377326e-01   4.09468145e-01\n",
      "   4.10654522e-01   4.12746679e-01   4.18814760e-01   4.19705476e-01\n",
      "   4.22593578e-01   4.27538376e-01   4.27773910e-01   4.28706918e-01\n",
      "   4.34745291e-01   4.43995576e-01   4.44554239e-01   4.47988805e-01\n",
      "   4.49082822e-01   4.49397322e-01   4.53956377e-01   4.59221519e-01\n",
      "   4.62648781e-01   4.63343967e-01   4.63561832e-01   4.69701425e-01\n",
      "   4.72407600e-01   4.76265379e-01   4.80442247e-01   4.80999348e-01\n",
      "   4.82904671e-01   4.84250844e-01   4.86323822e-01   4.89617881e-01\n",
      "   4.92711935e-01   4.96482426e-01   4.97804696e-01   5.00527643e-01\n",
      "   5.04131436e-01   5.06355928e-01   5.08087425e-01   5.16709620e-01\n",
      "   5.20360724e-01   5.20982513e-01   5.24607630e-01   5.25704797e-01\n",
      "   5.29709230e-01   5.33878264e-01   5.36344695e-01   5.37164383e-01\n",
      "   5.40761217e-01   5.41245760e-01   5.41454218e-01   5.43577898e-01\n",
      "   5.44749247e-01   5.45375883e-01   5.48751668e-01   5.49316834e-01\n",
      "   5.51623629e-01   5.52268245e-01   5.56078234e-01   5.57119620e-01\n",
      "   5.58277566e-01   5.60837390e-01   5.62948936e-01   5.65106318e-01\n",
      "   5.66233120e-01   5.67876803e-01   5.67981534e-01   5.69783947e-01\n",
      "   5.70032060e-01   5.73631451e-01   5.74314767e-01   5.74508390e-01\n",
      "   5.86366735e-01   5.88832517e-01   5.90228789e-01   5.95574400e-01\n",
      "   5.97752800e-01   6.05796975e-01   6.09648513e-01   6.14779530e-01\n",
      "   6.15005652e-01   6.15261810e-01   6.15583152e-01   6.23184366e-01\n",
      "   6.26377055e-01   6.32802574e-01   6.34285846e-01   6.35496957e-01\n",
      "   6.36274959e-01   6.47391501e-01   6.51813225e-01   6.52167541e-01\n",
      "   6.54011248e-01   6.54641517e-01   6.58051174e-01   6.61835640e-01\n",
      "   6.64381822e-01   6.69602626e-01   6.77181862e-01   6.77729780e-01\n",
      "   6.84254500e-01   6.84454732e-01   6.84779292e-01   6.88284008e-01\n",
      "   6.92718122e-01   7.01693806e-01   7.02725438e-01   7.04451448e-01\n",
      "   7.06833402e-01   7.06862237e-01   7.07619184e-01   7.08580732e-01\n",
      "   7.10295501e-01   7.11344245e-01   7.12579494e-01   7.15820146e-01\n",
      "   7.20224372e-01   7.21901428e-01   7.28029649e-01   7.30021709e-01\n",
      "   7.31468957e-01   7.34612046e-01   7.38763287e-01   7.40112440e-01\n",
      "   7.40759707e-01   7.40842961e-01   7.43406067e-01   7.50605841e-01\n",
      "   7.51098921e-01   7.53337167e-01   7.53942362e-01   7.54276856e-01\n",
      "   7.55012922e-01   7.61820302e-01   7.63382005e-01   7.64014989e-01\n",
      "   7.72374988e-01   7.74029225e-01   7.79339227e-01   7.90321563e-01\n",
      "   7.91981210e-01   7.94541740e-01   7.98832358e-01   8.09932139e-01\n",
      "   8.23786061e-01   8.33699137e-01   8.33906480e-01   8.33992148e-01\n",
      "   8.41109709e-01   8.49465109e-01   8.51214683e-01   8.61131911e-01\n",
      "   8.77171504e-01   8.78351432e-01   8.86201264e-01   8.89202467e-01\n",
      "   9.04955717e-01   9.11045811e-01   9.12018824e-01   9.21202450e-01\n",
      "   9.21690029e-01   9.21787040e-01   9.23923979e-01   9.23998778e-01\n",
      "   9.24286253e-01   9.38191446e-01   9.45648863e-01   9.45677313e-01\n",
      "   9.46238322e-01   9.48944164e-01   9.61046270e-01   9.62367126e-01\n",
      "   9.65471303e-01   9.75376134e-01   9.88817627e-01   9.89866612e-01\n",
      "   9.95903795e-01   9.97550525e-01   1.00302307e+00   1.00362797e+00\n",
      "   1.00607345e+00   1.01632664e+00   1.01748668e+00   1.02103335e+00\n",
      "   1.02625183e+00   1.03022978e+00   1.03222061e+00   1.03843926e+00\n",
      "   1.03945519e+00   1.03985858e+00   1.04182485e+00   1.04486339e+00\n",
      "   1.04539625e+00   1.04582525e+00   1.04956388e+00   1.05086241e+00\n",
      "   1.05173976e+00   1.05692473e+00   1.05900886e+00   1.06121313e+00\n",
      "   1.06502530e+00   1.07048679e+00   1.07122355e+00   1.08495070e+00\n",
      "   1.09078896e+00   1.09269448e+00   1.11399917e+00   1.11937329e+00\n",
      "   1.12219057e+00   1.12922411e+00   1.13197815e+00   1.13379229e+00\n",
      "   1.13437162e+00   1.13458405e+00   1.14001180e+00   1.14307773e+00\n",
      "   1.15422827e+00   1.15427771e+00   1.16232441e+00   1.16477733e+00\n",
      "   1.16499313e+00   1.17294326e+00   1.17838322e+00   1.17858579e+00\n",
      "   1.17928011e+00   1.18614370e+00   1.20218267e+00   1.20224713e+00\n",
      "   1.20572727e+00   1.20634108e+00   1.21196422e+00   1.22888244e+00\n",
      "   1.22916679e+00   1.23150594e+00   1.23177056e+00   1.23410917e+00\n",
      "   1.24610511e+00   1.25173251e+00   1.25931927e+00   1.26334634e+00\n",
      "   1.26517788e+00   1.26612149e+00   1.26833138e+00   1.28976798e+00\n",
      "   1.29089186e+00   1.29494946e+00   1.29987620e+00   1.30032445e+00\n",
      "   1.31105757e+00   1.31582963e+00   1.31933946e+00   1.32255241e+00\n",
      "   1.32399361e+00   1.32569119e+00   1.32998644e+00   1.33224811e+00\n",
      "   1.34882698e+00   1.35188605e+00   1.35295232e+00   1.35423167e+00\n",
      "   1.36963652e+00   1.37773242e+00   1.40540606e+00   1.40800355e+00\n",
      "   1.41024653e+00   1.41124658e+00   1.42088982e+00   1.42396718e+00\n",
      "   1.42523359e+00   1.43927210e+00   1.44469653e+00   1.44876112e+00\n",
      "   1.45188183e+00   1.45372324e+00   1.45493377e+00   1.45655452e+00\n",
      "   1.46502308e+00   1.47072839e+00   1.47768109e+00   1.48900058e+00\n",
      "   1.49011904e+00   1.50700587e+00   1.50987490e+00   1.51700964e+00\n",
      "   1.53751109e+00   1.54319560e+00   1.54441291e+00   1.55211620e+00\n",
      "   1.56021476e+00   1.56736655e+00   1.58244245e+00   1.58802542e+00\n",
      "   1.58856649e+00   1.58957161e+00   1.60157661e+00   1.60633177e+00\n",
      "   1.61043464e+00   1.61070325e+00   1.61139897e+00   1.62514494e+00\n",
      "   1.63884023e+00   1.65126541e+00   1.65531972e+00   1.67128784e+00\n",
      "   1.67144914e+00   1.68291592e+00   1.69160043e+00   1.70577942e+00\n",
      "   1.71009348e+00   1.72497291e+00   1.74222414e+00   1.74840080e+00\n",
      "   1.76529907e+00   1.78086219e+00   1.79130085e+00   1.80317379e+00\n",
      "   1.81311545e+00   1.82029017e+00   1.82204659e+00   1.82252302e+00\n",
      "   1.82548815e+00   1.83039527e+00   1.85264707e+00   1.86107390e+00\n",
      "   1.90579234e+00   1.94218731e+00   1.95239881e+00   1.96704230e+00\n",
      "   2.01053047e+00   2.08620330e+00   2.09022182e+00   2.25758251e+00\n",
      "   2.26745564e+00   2.28086575e+00   2.45304856e+00   2.51430729e+00\n",
      "   2.67356348e+00   3.03737767e+00   3.19491363e+00   3.45129822e+00]\n"
     ]
    },
    {
     "name": "stdout",
     "output_type": "stream",
     "text": [
      "-1.55039347365\n"
     ]
    }
   ],
   "source": [
    "large_arr = np.random.randn(1000)\n",
    "large_arr.sort()\n",
    "print (large_arr)\n",
    "print (large_arr[int(0.05 * len(large_arr))]) #找到最大值"
   ]
  },
  {
   "cell_type": "markdown",
   "metadata": {},
   "source": [
    "> 传播，如果是小的矩阵去和大的矩阵做一下操作，但是希望小矩阵能循环和大矩阵的那些块做一样的操作，那继续要Broadcasting（传播）."
   ]
  },
  {
   "cell_type": "code",
   "execution_count": 64,
   "metadata": {
    "collapsed": true
   },
   "outputs": [],
   "source": [
    "#想给每一行都加上向量V就需要用到传播\n",
    "x = np.array([[1,2,3],[4,5,6],[7,8,9],[10,11,12]])\n",
    "v = np.array([1,0,1])\n"
   ]
  },
  {
   "cell_type": "code",
   "execution_count": 65,
   "metadata": {},
   "outputs": [
    {
     "name": "stdout",
     "output_type": "stream",
     "text": [
      "[[                  0                   0                   6]\n",
      " [                  1                   0 3615946731872583680]\n",
      " [                  0 4120851028606320640                   0]\n",
      " [7378129167369371648                   0    1697633326661632]]\n"
     ]
    }
   ],
   "source": [
    "#如果不用传播\n",
    "y = np.empty_like(x)\n",
    "print (y)"
   ]
  },
  {
   "cell_type": "code",
   "execution_count": 66,
   "metadata": {},
   "outputs": [
    {
     "name": "stdout",
     "output_type": "stream",
     "text": [
      "[[ 2  2  4]\n",
      " [ 5  5  7]\n",
      " [ 8  8 10]\n",
      " [11 11 13]]\n"
     ]
    }
   ],
   "source": [
    "for i in range(4):\n",
    "    y[i,:] = x[i,:] + v\n",
    "print (y)\n",
    "#效率不高"
   ]
  },
  {
   "cell_type": "code",
   "execution_count": 67,
   "metadata": {},
   "outputs": [
    {
     "data": {
      "text/plain": [
       "array([[ 2,  2,  4],\n",
       "       [ 5,  5,  7],\n",
       "       [ 8,  8, 10],\n",
       "       [11, 11, 13]])"
      ]
     },
     "execution_count": 67,
     "metadata": {},
     "output_type": "execute_result"
    }
   ],
   "source": [
    "#所以用传播\n",
    "x+v"
   ]
  },
  {
   "cell_type": "markdown",
   "metadata": {},
   "source": [
    "> 当操作两个arr的时候，numpy会逐个比较他们的shape,在下面情况下，两个arr会兼容和输出传播结果。\n",
    "1. 相等\n",
    "2. 其中一个为1，会拷贝到每一个，shape匹配"
   ]
  },
  {
   "cell_type": "code",
   "execution_count": 68,
   "metadata": {},
   "outputs": [
    {
     "name": "stdout",
     "output_type": "stream",
     "text": [
      "(3,) (2,)\n"
     ]
    }
   ],
   "source": [
    "v = np.array([1,2,3])\n",
    "w = np.array([4,5])\n",
    "print (v.shape,w.shape) #无法传播相加"
   ]
  },
  {
   "cell_type": "code",
   "execution_count": 69,
   "metadata": {},
   "outputs": [
    {
     "name": "stdout",
     "output_type": "stream",
     "text": [
      "(3, 1)\n"
     ]
    }
   ],
   "source": [
    "v = v.reshape(3,1) #但是通过reshape可以相加\n",
    "print (v.shape)"
   ]
  },
  {
   "cell_type": "code",
   "execution_count": 70,
   "metadata": {},
   "outputs": [
    {
     "data": {
      "text/plain": [
       "array([[5, 6],\n",
       "       [6, 7],\n",
       "       [7, 8]])"
      ]
     },
     "execution_count": 70,
     "metadata": {},
     "output_type": "execute_result"
    }
   ],
   "source": [
    "v + w"
   ]
  },
  {
   "cell_type": "code",
   "execution_count": 71,
   "metadata": {
    "collapsed": true
   },
   "outputs": [],
   "source": [
    "x = np.array([[1,2,3],[4,5,6]]) #2X3的\n",
    "w = np.array([4,5])"
   ]
  },
  {
   "cell_type": "code",
   "execution_count": 72,
   "metadata": {},
   "outputs": [
    {
     "ename": "ValueError",
     "evalue": "operands could not be broadcast together with shapes (2,3) (2,) ",
     "output_type": "error",
     "traceback": [
      "\u001b[0;31m---------------------------------------------------------------------------\u001b[0m",
      "\u001b[0;31mValueError\u001b[0m                                Traceback (most recent call last)",
      "\u001b[0;32m<ipython-input-72-bc79f95cdaf2>\u001b[0m in \u001b[0;36m<module>\u001b[0;34m()\u001b[0m\n\u001b[0;32m----> 1\u001b[0;31m \u001b[0mx\u001b[0m \u001b[0;34m+\u001b[0m \u001b[0mw\u001b[0m\u001b[0;34m\u001b[0m\u001b[0m\n\u001b[0m",
      "\u001b[0;31mValueError\u001b[0m: operands could not be broadcast together with shapes (2,3) (2,) "
     ]
    }
   ],
   "source": [
    "x + w"
   ]
  },
  {
   "cell_type": "code",
   "execution_count": 73,
   "metadata": {},
   "outputs": [
    {
     "data": {
      "text/plain": [
       "array([[ 5,  6,  7],\n",
       "       [ 9, 10, 11]])"
      ]
     },
     "execution_count": 73,
     "metadata": {},
     "output_type": "execute_result"
    }
   ],
   "source": [
    "(x.T + w).T #可以转置相加后，在转置回来"
   ]
  },
  {
   "cell_type": "markdown",
   "metadata": {},
   "source": [
    "## 逻辑运算"
   ]
  },
  {
   "cell_type": "code",
   "execution_count": 74,
   "metadata": {
    "collapsed": true
   },
   "outputs": [],
   "source": [
    "x_arr = np.array([1.1,1.2,1.3,1.4,1.5])\n",
    "y_arr = np.array([2.1,2.2,2.3,2.4,2.5])"
   ]
  },
  {
   "cell_type": "code",
   "execution_count": 75,
   "metadata": {},
   "outputs": [
    {
     "name": "stdout",
     "output_type": "stream",
     "text": [
      "[ 1.1  2.2  1.3  1.4  2.5]\n"
     ]
    }
   ],
   "source": [
    "cond = np.array([True,False,True,True,False])\n",
    "print (np.where(cond,x_arr,y_arr))"
   ]
  },
  {
   "cell_type": "code",
   "execution_count": 76,
   "metadata": {
    "collapsed": true
   },
   "outputs": [],
   "source": [
    "arr = np.random.randn(4,4)"
   ]
  },
  {
   "cell_type": "code",
   "execution_count": 77,
   "metadata": {},
   "outputs": [
    {
     "name": "stdout",
     "output_type": "stream",
     "text": [
      "[[ True  True False  True]\n",
      " [False  True False False]\n",
      " [False False False False]\n",
      " [ True  True  True  True]]\n"
     ]
    }
   ],
   "source": [
    "print (arr > 0 )"
   ]
  },
  {
   "cell_type": "code",
   "execution_count": 78,
   "metadata": {},
   "outputs": [
    {
     "name": "stdout",
     "output_type": "stream",
     "text": [
      "[[ 2  2 -1  2]\n",
      " [-1  2 -1 -1]\n",
      " [-1 -1 -1 -1]\n",
      " [ 2  2  2  2]]\n"
     ]
    }
   ],
   "source": [
    "print (np.where(arr > 0,2,-1)) # true 用2 false 用-1"
   ]
  },
  {
   "cell_type": "code",
   "execution_count": 79,
   "metadata": {},
   "outputs": [
    {
     "name": "stdout",
     "output_type": "stream",
     "text": [
      "[[ 1.          1.         -0.86221399  1.        ]\n",
      " [-1.19212043  1.         -0.02073754 -0.89558906]\n",
      " [-1.37154216 -0.58042845 -0.94253905 -1.08640676]\n",
      " [ 1.          1.          1.          1.        ]]\n"
     ]
    }
   ],
   "source": [
    "print (np.where(arr > 0,1,arr)) #大于的用1表示，其他还是用原来的值"
   ]
  },
  {
   "cell_type": "markdown",
   "metadata": {
    "collapsed": true
   },
   "source": [
    "## 高级的处理"
   ]
  },
  {
   "cell_type": "code",
   "execution_count": 80,
   "metadata": {},
   "outputs": [
    {
     "name": "stdout",
     "output_type": "stream",
     "text": [
      "(8,)\n"
     ]
    }
   ],
   "source": [
    "arr = np.arange(8)\n",
    "print (arr.shape)"
   ]
  },
  {
   "cell_type": "code",
   "execution_count": 81,
   "metadata": {},
   "outputs": [
    {
     "data": {
      "text/plain": [
       "array([[0, 1, 2, 3],\n",
       "       [4, 5, 6, 7]])"
      ]
     },
     "execution_count": 81,
     "metadata": {},
     "output_type": "execute_result"
    }
   ],
   "source": [
    "arr.reshape(2,4)"
   ]
  },
  {
   "cell_type": "code",
   "execution_count": 83,
   "metadata": {},
   "outputs": [
    {
     "name": "stdout",
     "output_type": "stream",
     "text": [
      "(5, 3)\n"
     ]
    }
   ],
   "source": [
    "arr =np.arange(15)\n",
    "print (arr.reshape(5,3).shape)"
   ]
  },
  {
   "cell_type": "code",
   "execution_count": 84,
   "metadata": {},
   "outputs": [
    {
     "name": "stdout",
     "output_type": "stream",
     "text": [
      "(5, 3)\n"
     ]
    }
   ],
   "source": [
    "print (arr.reshape(5,-1).shape)#利用自动推到"
   ]
  },
  {
   "cell_type": "code",
   "execution_count": 85,
   "metadata": {},
   "outputs": [
    {
     "name": "stdout",
     "output_type": "stream",
     "text": [
      "(3, 5)\n"
     ]
    }
   ],
   "source": [
    "other_arr = np.ones((3,5))\n",
    "print (other_arr.shape) #元组"
   ]
  },
  {
   "cell_type": "code",
   "execution_count": 86,
   "metadata": {},
   "outputs": [
    {
     "data": {
      "text/plain": [
       "array([[ 0,  1,  2,  3,  4],\n",
       "       [ 5,  6,  7,  8,  9],\n",
       "       [10, 11, 12, 13, 14]])"
      ]
     },
     "execution_count": 86,
     "metadata": {},
     "output_type": "execute_result"
    }
   ],
   "source": [
    "arr.reshape(other_arr.shape)#利用其它的形状，reshape"
   ]
  },
  {
   "cell_type": "markdown",
   "metadata": {},
   "source": [
    "高维数组可以用ravel来拉平"
   ]
  },
  {
   "cell_type": "code",
   "execution_count": 87,
   "metadata": {},
   "outputs": [
    {
     "data": {
      "text/plain": [
       "(15,)"
      ]
     },
     "execution_count": 87,
     "metadata": {},
     "output_type": "execute_result"
    }
   ],
   "source": [
    " arr.ravel().shape"
   ]
  },
  {
   "cell_type": "markdown",
   "metadata": {},
   "source": [
    "连接两个二维数组"
   ]
  },
  {
   "cell_type": "code",
   "execution_count": 88,
   "metadata": {},
   "outputs": [
    {
     "name": "stdout",
     "output_type": "stream",
     "text": [
      "[[1 2 3]\n",
      " [4 5 6]] \n",
      "\n",
      " [[ 7  8  9]\n",
      " [10 11 12]]\n"
     ]
    }
   ],
   "source": [
    "arr1 = np.array([[1,2,3],[4,5,6]])\n",
    "arr2 = np.array([[7,8,9],[10,11,12]])\n",
    "print (arr1,\"\\n\\n\",arr2)"
   ]
  },
  {
   "cell_type": "code",
   "execution_count": 89,
   "metadata": {},
   "outputs": [
    {
     "data": {
      "text/plain": [
       "array([[ 1,  2,  3],\n",
       "       [ 4,  5,  6],\n",
       "       [ 7,  8,  9],\n",
       "       [10, 11, 12]])"
      ]
     },
     "execution_count": 89,
     "metadata": {},
     "output_type": "execute_result"
    }
   ],
   "source": [
    "np.concatenate([arr1,arr2],axis=0)#0维连接在一起"
   ]
  },
  {
   "cell_type": "code",
   "execution_count": 91,
   "metadata": {},
   "outputs": [
    {
     "data": {
      "text/plain": [
       "array([[ 1,  2,  3],\n",
       "       [ 4,  5,  6],\n",
       "       [ 7,  8,  9],\n",
       "       [10, 11, 12]])"
      ]
     },
     "execution_count": 91,
     "metadata": {},
     "output_type": "execute_result"
    }
   ],
   "source": [
    "np.vstack((arr1,arr2))#垂直上下"
   ]
  },
  {
   "cell_type": "code",
   "execution_count": 92,
   "metadata": {},
   "outputs": [
    {
     "data": {
      "text/plain": [
       "array([[ 1,  2,  3,  7,  8,  9],\n",
       "       [ 4,  5,  6, 10, 11, 12]])"
      ]
     },
     "execution_count": 92,
     "metadata": {},
     "output_type": "execute_result"
    }
   ],
   "source": [
    "np.hstack((arr1,arr2)) #水平"
   ]
  },
  {
   "cell_type": "markdown",
   "metadata": {},
   "source": [
    "拆分数组"
   ]
  },
  {
   "cell_type": "code",
   "execution_count": 93,
   "metadata": {},
   "outputs": [
    {
     "name": "stdout",
     "output_type": "stream",
     "text": [
      "[[ 0.86060796  0.45112857  0.20864796  0.49797319  0.98404927]\n",
      " [ 0.62463725  0.19573576  0.53328018  0.30069987  0.95530299]\n",
      " [ 0.42617858  0.62642061  0.38103138  0.53820771  0.90373958]\n",
      " [ 0.96660694  0.3379231   0.91064805  0.80188289  0.95120523]\n",
      " [ 0.01884149  0.28337762  0.9332416   0.13005766  0.15536965]]\n"
     ]
    }
   ],
   "source": [
    "arr = np.random.rand(5,5)\n",
    "print (arr)"
   ]
  },
  {
   "cell_type": "code",
   "execution_count": 97,
   "metadata": {},
   "outputs": [
    {
     "name": "stdout",
     "output_type": "stream",
     "text": [
      "[[ 0.86060796  0.45112857  0.20864796  0.49797319  0.98404927]] \n",
      "\n",
      " [[ 0.62463725  0.19573576  0.53328018  0.30069987  0.95530299]\n",
      " [ 0.42617858  0.62642061  0.38103138  0.53820771  0.90373958]] \n",
      "\n",
      " [[ 0.96660694  0.3379231   0.91064805  0.80188289  0.95120523]\n",
      " [ 0.01884149  0.28337762  0.9332416   0.13005766  0.15536965]]\n"
     ]
    }
   ],
   "source": [
    "first,second,third = np.split(arr,[1,3],axis=0) #在第一个位置和第三个位置截取\n",
    "print (first,'\\n\\n',second,'\\n\\n',third)"
   ]
  },
  {
   "cell_type": "markdown",
   "metadata": {},
   "source": [
    "堆叠辅助"
   ]
  },
  {
   "cell_type": "code",
   "execution_count": 98,
   "metadata": {},
   "outputs": [
    {
     "data": {
      "text/plain": [
       "Ellipsis"
      ]
     },
     "execution_count": 98,
     "metadata": {},
     "output_type": "execute_result"
    }
   ],
   "source": [
    "..."
   ]
  },
  {
   "cell_type": "markdown",
   "metadata": {},
   "source": [
    "切片直接转化为数组"
   ]
  },
  {
   "cell_type": "code",
   "execution_count": 101,
   "metadata": {},
   "outputs": [
    {
     "data": {
      "text/plain": [
       "array([[ 1, -5],\n",
       "       [ 2, -4],\n",
       "       [ 3, -3],\n",
       "       [ 4, -2],\n",
       "       [ 5, -1]])"
      ]
     },
     "execution_count": 101,
     "metadata": {},
     "output_type": "execute_result"
    }
   ],
   "source": [
    "np.c_[1:6,-5:0]\n"
   ]
  },
  {
   "cell_type": "markdown",
   "metadata": {},
   "source": [
    "使用repeat来重复"
   ]
  },
  {
   "cell_type": "code",
   "execution_count": 102,
   "metadata": {},
   "outputs": [
    {
     "name": "stdout",
     "output_type": "stream",
     "text": [
      "[0 1 2]\n"
     ]
    }
   ],
   "source": [
    "arr = np.arange(3)\n",
    "print (arr)"
   ]
  },
  {
   "cell_type": "code",
   "execution_count": 103,
   "metadata": {},
   "outputs": [
    {
     "name": "stdout",
     "output_type": "stream",
     "text": [
      "[0 0 1 1 1 2 2 2 2 2]\n"
     ]
    }
   ],
   "source": [
    "print (arr.repeat([2,3,5]))"
   ]
  },
  {
   "cell_type": "markdown",
   "metadata": {},
   "source": [
    "按照元素来重复，制定axis来重复"
   ]
  },
  {
   "cell_type": "code",
   "execution_count": 105,
   "metadata": {},
   "outputs": [
    {
     "name": "stdout",
     "output_type": "stream",
     "text": [
      "[[ 0.69469745  0.28780682  0.71313967]\n",
      " [ 0.35294584  0.95356549  0.89894023]]\n"
     ]
    }
   ],
   "source": [
    "arr = np.random.rand(2,3)\n",
    "print (arr)"
   ]
  },
  {
   "cell_type": "code",
   "execution_count": 109,
   "metadata": {},
   "outputs": [
    {
     "name": "stdout",
     "output_type": "stream",
     "text": [
      "[[ 0.69469745  0.69469745  0.28780682  0.28780682  0.71313967  0.71313967]\n",
      " [ 0.35294584  0.35294584  0.95356549  0.95356549  0.89894023  0.89894023]]\n"
     ]
    }
   ],
   "source": [
    "print(arr.repeat(2,axis=1))"
   ]
  },
  {
   "cell_type": "markdown",
   "metadata": {},
   "source": [
    "tile:参考贴瓷砖"
   ]
  },
  {
   "cell_type": "code",
   "execution_count": 108,
   "metadata": {},
   "outputs": [
    {
     "name": "stdout",
     "output_type": "stream",
     "text": [
      "[[ 0.69469745  0.28780682  0.71313967]\n",
      " [ 0.35294584  0.95356549  0.89894023]]\n",
      "\n",
      "[[ 0.69469745  0.28780682  0.71313967  0.69469745  0.28780682  0.71313967]\n",
      " [ 0.35294584  0.95356549  0.89894023  0.35294584  0.95356549  0.89894023]]\n"
     ]
    }
   ],
   "source": [
    "print(arr)\n",
    "print()\n",
    "print(np.tile(arr,2))"
   ]
  },
  {
   "cell_type": "markdown",
   "metadata": {},
   "source": [
    "Numpy输入输出"
   ]
  },
  {
   "cell_type": "code",
   "execution_count": 110,
   "metadata": {},
   "outputs": [
    {
     "ename": "FileNotFoundError",
     "evalue": "[Errno 2] No such file or directory: 'array_ex.txt'",
     "output_type": "error",
     "traceback": [
      "\u001b[0;31m---------------------------------------------------------------------------\u001b[0m",
      "\u001b[0;31mFileNotFoundError\u001b[0m                         Traceback (most recent call last)",
      "\u001b[0;32m<ipython-input-110-8c5ef701b507>\u001b[0m in \u001b[0;36m<module>\u001b[0;34m()\u001b[0m\n\u001b[1;32m      1\u001b[0m \u001b[0;31m#读取csv文件作为数组\u001b[0m\u001b[0;34m\u001b[0m\u001b[0;34m\u001b[0m\u001b[0m\n\u001b[0;32m----> 2\u001b[0;31m \u001b[0marr\u001b[0m \u001b[0;34m=\u001b[0m \u001b[0mnp\u001b[0m\u001b[0;34m.\u001b[0m\u001b[0mloadtxt\u001b[0m\u001b[0;34m(\u001b[0m\u001b[0;34m'array_ex.txt'\u001b[0m\u001b[0;34m,\u001b[0m\u001b[0mdelimiter\u001b[0m\u001b[0;34m=\u001b[0m\u001b[0;34m\",\"\u001b[0m\u001b[0;34m)\u001b[0m \u001b[0;31m#去读文件，分隔符“，”\u001b[0m\u001b[0;34m\u001b[0m\u001b[0m\n\u001b[0m",
      "\u001b[0;32m~/anaconda3/lib/python3.6/site-packages/numpy/lib/npyio.py\u001b[0m in \u001b[0;36mloadtxt\u001b[0;34m(fname, dtype, comments, delimiter, converters, skiprows, usecols, unpack, ndmin)\u001b[0m\n\u001b[1;32m    896\u001b[0m                 \u001b[0mfh\u001b[0m \u001b[0;34m=\u001b[0m \u001b[0miter\u001b[0m\u001b[0;34m(\u001b[0m\u001b[0mopen\u001b[0m\u001b[0;34m(\u001b[0m\u001b[0mfname\u001b[0m\u001b[0;34m,\u001b[0m \u001b[0;34m'U'\u001b[0m\u001b[0;34m)\u001b[0m\u001b[0;34m)\u001b[0m\u001b[0;34m\u001b[0m\u001b[0m\n\u001b[1;32m    897\u001b[0m             \u001b[0;32melse\u001b[0m\u001b[0;34m:\u001b[0m\u001b[0;34m\u001b[0m\u001b[0m\n\u001b[0;32m--> 898\u001b[0;31m                 \u001b[0mfh\u001b[0m \u001b[0;34m=\u001b[0m \u001b[0miter\u001b[0m\u001b[0;34m(\u001b[0m\u001b[0mopen\u001b[0m\u001b[0;34m(\u001b[0m\u001b[0mfname\u001b[0m\u001b[0;34m)\u001b[0m\u001b[0;34m)\u001b[0m\u001b[0;34m\u001b[0m\u001b[0m\n\u001b[0m\u001b[1;32m    899\u001b[0m         \u001b[0;32melse\u001b[0m\u001b[0;34m:\u001b[0m\u001b[0;34m\u001b[0m\u001b[0m\n\u001b[1;32m    900\u001b[0m             \u001b[0mfh\u001b[0m \u001b[0;34m=\u001b[0m \u001b[0miter\u001b[0m\u001b[0;34m(\u001b[0m\u001b[0mfname\u001b[0m\u001b[0;34m)\u001b[0m\u001b[0;34m\u001b[0m\u001b[0m\n",
      "\u001b[0;31mFileNotFoundError\u001b[0m: [Errno 2] No such file or directory: 'array_ex.txt'"
     ]
    }
   ],
   "source": [
    "#读取csv文件作为数组\n",
    "arr = np.loadtxt('array_ex.txt',delimiter=\",\") #去读文件，分隔符“，”"
   ]
  },
  {
   "cell_type": "code",
   "execution_count": 112,
   "metadata": {},
   "outputs": [
    {
     "name": "stdout",
     "output_type": "stream",
     "text": [
      "[[[ 0  1  2  3  4]\n",
      "  [ 5  6  7  8  9]\n",
      "  [10 11 12 13 14]\n",
      "  [15 16 17 18 19]\n",
      "  [20 21 22 23 24]]\n",
      "\n",
      " [[25 26 27 28 29]\n",
      "  [30 31 32 33 34]\n",
      "  [35 36 37 38 39]\n",
      "  [40 41 42 43 44]\n",
      "  [45 46 47 48 49]]]\n"
     ]
    }
   ],
   "source": [
    "#数据文件读取\n",
    "arr = np.arange(50).reshape(2,5,5)\n",
    "print (arr)"
   ]
  },
  {
   "cell_type": "code",
   "execution_count": 113,
   "metadata": {
    "collapsed": true
   },
   "outputs": [],
   "source": [
    "np.save('some_array',arr)"
   ]
  },
  {
   "cell_type": "code",
   "execution_count": 114,
   "metadata": {},
   "outputs": [
    {
     "name": "stdout",
     "output_type": "stream",
     "text": [
      "[[[ 0  1  2  3  4]\n",
      "  [ 5  6  7  8  9]\n",
      "  [10 11 12 13 14]\n",
      "  [15 16 17 18 19]\n",
      "  [20 21 22 23 24]]\n",
      "\n",
      " [[25 26 27 28 29]\n",
      "  [30 31 32 33 34]\n",
      "  [35 36 37 38 39]\n",
      "  [40 41 42 43 44]\n",
      "  [45 46 47 48 49]]]\n"
     ]
    }
   ],
   "source": [
    "arr2 = np.load('some_array.npy')\n",
    "print (arr2)"
   ]
  },
  {
   "cell_type": "code",
   "execution_count": 116,
   "metadata": {
    "collapsed": true
   },
   "outputs": [],
   "source": [
    "arr3 = np.arange(15).reshape(3,5)\n",
    "np.savez('array_archive.npz',arr=arr,b=arr2,c=arr3) #多个存入一个文件"
   ]
  },
  {
   "cell_type": "code",
   "execution_count": 118,
   "metadata": {},
   "outputs": [
    {
     "name": "stdout",
     "output_type": "stream",
     "text": [
      "[[[ 0  1  2  3  4]\n",
      "  [ 5  6  7  8  9]\n",
      "  [10 11 12 13 14]\n",
      "  [15 16 17 18 19]\n",
      "  [20 21 22 23 24]]\n",
      "\n",
      " [[25 26 27 28 29]\n",
      "  [30 31 32 33 34]\n",
      "  [35 36 37 38 39]\n",
      "  [40 41 42 43 44]\n",
      "  [45 46 47 48 49]]]\n"
     ]
    }
   ],
   "source": [
    "arch = np.load('array_archive.npz')\n",
    "print (arch['arr'])"
   ]
  },
  {
   "cell_type": "code",
   "execution_count": 119,
   "metadata": {},
   "outputs": [
    {
     "data": {
      "text/plain": [
       "array([[ 0,  1,  2,  3,  4],\n",
       "       [ 5,  6,  7,  8,  9],\n",
       "       [10, 11, 12, 13, 14]])"
      ]
     },
     "execution_count": 119,
     "metadata": {},
     "output_type": "execute_result"
    }
   ],
   "source": [
    "arch['c']"
   ]
  },
  {
   "cell_type": "markdown",
   "metadata": {},
   "source": [
    "numpy写一个softmax\n",
    "\n",
    "- 计算exponential\n",
    "- 按行求和\n",
    "- 每一行都要除以计算的和"
   ]
  },
  {
   "cell_type": "code",
   "execution_count": 121,
   "metadata": {},
   "outputs": [
    {
     "name": "stdout",
     "output_type": "stream",
     "text": [
      "[[ 1004.24791872  1003.55986502  1005.91732549  1004.80652533\n",
      "   1004.86217717  1008.43317527  1002.48723142  1007.1211634   1005.32305369\n",
      "   1007.62982446]\n",
      " [ 1004.93774917  1001.15423353  1007.37031892  1008.19568567\n",
      "   1003.09593957  1007.97365681  1004.60711846  1001.40675689\n",
      "   1006.12669954  1000.39250662]\n",
      " [ 1008.27241404  1006.97947157  1002.19545103  1008.04942291\n",
      "   1002.13032063  1003.36550175  1007.26746149  1004.47086869\n",
      "   1008.60217098  1006.84241479]\n",
      " [ 1004.32011731  1007.27920247  1009.57883925  1002.52711455\n",
      "   1002.99671181  1007.19716624  1005.80772927  1006.99893769\n",
      "   1002.94690777  1006.41607962]\n",
      " [ 1000.97566433  1006.73110236  1009.27530509  1006.10128326\n",
      "   1008.97106338  1001.58066415  1001.98363775  1006.35864616\n",
      "   1002.10090208  1007.96565962]\n",
      " [ 1009.01237316  1002.1942741   1008.30704437  1006.43163151\n",
      "   1007.45445389  1008.12548293  1005.06688803  1002.38246906\n",
      "   1000.10017634  1001.89705789]\n",
      " [ 1004.59109864  1005.96684649  1001.37589756  1004.53621771\n",
      "   1003.59570848  1006.34998064  1001.21377798  1006.64373036\n",
      "   1000.38306661  1000.09692263]\n",
      " [ 1003.52635354  1005.22832588  1008.27051903  1009.11700298\n",
      "   1001.20688626  1001.11879121  1004.99865091  1003.40082837\n",
      "   1003.31746287  1003.31177736]\n",
      " [ 1003.9995927   1006.81803455  1000.63724991  1002.49156372\n",
      "   1002.06549733  1009.31003515  1005.03898309  1003.39232435\n",
      "   1003.09500759  1004.53339378]\n",
      " [ 1008.64275313  1000.25828807  1008.91205502  1000.42862488  1004.3824164\n",
      "   1009.69651816  1001.41034317  1003.2708002   1000.6829255   1008.21593319]]\n"
     ]
    }
   ],
   "source": [
    "m = np.random.rand(10,10) * 10 + 1000\n",
    "print (m)"
   ]
  },
  {
   "cell_type": "code",
   "execution_count": 125,
   "metadata": {},
   "outputs": [
    {
     "name": "stdout",
     "output_type": "stream",
     "text": [
      "[[-0.57919789]\n",
      " [-1.03871635]\n",
      " [ 0.62373113]\n",
      " [ 0.97666827]\n",
      " [ 0.67313411]\n",
      " [ 0.57919789]\n",
      " [-2.22883918]\n",
      " [-0.33165195]\n",
      " [ 0.29766199]\n",
      " [ 0.684145  ]] (10, 1)\n"
     ]
    }
   ],
   "source": [
    "# np.exp(m)\n",
    "m_row_max = m.max(axis=1).reshape(10,1)\n",
    "print (m_row_max, m_row_max.shape) #获取每一行的最大值"
   ]
  },
  {
   "cell_type": "code",
   "execution_count": 126,
   "metadata": {},
   "outputs": [
    {
     "name": "stdout",
     "output_type": "stream",
     "text": [
      "[[-3.60605867 -4.05662276 -2.10564761 -4.19311604 -3.83393004  0.\n",
      "  -3.57730106 -1.4166417  -3.40778358 -1.48749581]\n",
      " [-2.45670976 -6.00273579 -0.19313571 -0.34443724 -5.14064918  0.\n",
      "  -0.99789556 -6.67152974 -2.14461926 -8.26529519]\n",
      " [-0.78449235 -1.83994522 -7.03045108 -2.15314747 -7.76871559 -6.27060253\n",
      "   0.         -5.26986541 -1.3315953  -3.47783449]\n",
      " [-5.08972623 -1.89315146  0.         -8.02839296 -7.25526155 -2.79187518\n",
      "  -1.81266936 -3.09473355 -7.33979565 -4.2571068 ]\n",
      " [-8.13064505 -2.13771742  0.         -4.1506901  -0.97737582 -8.10484312\n",
      "  -5.33322673 -3.43149093 -7.88226718 -2.40399264]\n",
      " [ 0.         -6.58060946 -0.8743245  -3.72640563 -2.40004908 -1.46608811\n",
      "  -2.15604022 -7.31373181 -9.7890567  -8.37865815]\n",
      " [-1.61323745  0.         -4.99743424 -2.81378236 -3.45075743 -0.43355334\n",
      "  -3.20111321 -0.24443344 -6.69812936 -7.37075635]\n",
      " [-4.57516979 -2.63570784  0.         -0.13018432 -7.73676688 -7.56193\n",
      "  -1.3134275  -5.38452266 -5.66092033 -6.05308885]\n",
      " [-4.73124457 -1.67531311 -8.26258307 -7.38493752 -7.50746976  0.\n",
      "  -1.90240927 -6.02234063 -6.51268956 -5.46078636]\n",
      " [-0.47456714 -8.62154259 -0.37426096 -9.83435937 -5.57703369  0.\n",
      "  -5.91753219 -6.53034778 -9.31125465 -2.16472996]]\n"
     ]
    }
   ],
   "source": [
    "m = m - m_row_max\n",
    "print (m)"
   ]
  },
  {
   "cell_type": "code",
   "execution_count": 128,
   "metadata": {},
   "outputs": [
    {
     "name": "stdout",
     "output_type": "stream",
     "text": [
      "[[  2.71586775e-02   1.73073716e-02   1.21766791e-01   1.50991620e-02\n",
      "    2.16244634e-02   1.00000000e+00   2.79510346e-02   2.42527131e-01\n",
      "    3.31145147e-02   2.25937739e-01]\n",
      " [  8.57165153e-02   2.47198011e-03   8.24370089e-01   7.08619026e-01\n",
      "    5.85388827e-03   1.00000000e+00   3.68654437e-01   1.26645991e-03\n",
      "    1.17112618e-01   2.57292963e-04]\n",
      " [  4.56351307e-01   1.58826126e-01   8.84532698e-04   1.16118104e-01\n",
      "    4.22755911e-04   1.89108880e-03   1.00000000e+00   5.14430288e-03\n",
      "    2.64055678e-01   3.08741971e-02]\n",
      " [  6.15970598e-03   1.50596461e-01   1.00000000e+00   3.26071797e-04\n",
      "    7.06447582e-04   6.13061458e-02   1.63217868e-01   4.52870774e-02\n",
      "    6.49183167e-04   1.41632202e-02]\n",
      " [  2.94378250e-04   1.17923707e-01   1.00000000e+00   1.57535412e-02\n",
      "    3.76297276e-01   3.02072615e-04   4.82846471e-03   3.23386900e-02\n",
      "    3.77376505e-04   9.03564710e-02]\n",
      " [  1.00000000e+00   1.38700372e-03   4.17143705e-01   2.40792302e-02\n",
      "    9.07135005e-02   2.30826690e-01   1.15782688e-01   6.66325806e-04\n",
      "    5.60617555e-05   2.29717985e-04]\n",
      " [  1.99241534e-01   1.00000000e+00   6.75525714e-03   5.99777056e-02\n",
      "    3.17216003e-02   6.48201718e-01   4.07168525e-02   7.83148114e-01\n",
      "    1.23321665e-03   6.29391960e-04]\n",
      " [  1.03045494e-02   7.16682221e-02   1.00000000e+00   8.77933596e-01\n",
      "    4.36480488e-04   5.19870925e-04   2.68896831e-01   4.58702938e-03\n",
      "    3.47931331e-03   2.35059016e-03]\n",
      " [  8.81549273e-03   1.87249540e-01   2.57991719e-04   6.20529431e-04\n",
      "    5.48968356e-04   1.00000000e+00   1.49208702e-01   2.42398929e-03\n",
      "    1.48448175e-03   4.25021222e-03]\n",
      " [  6.22154302e-01   1.80182093e-04   6.87797399e-01   5.35786779e-05\n",
      "    3.78377274e-03   1.00000000e+00   2.69183493e-03   1.45849852e-03\n",
      "    9.04010521e-05   1.14780926e-01]] (10, 10)\n"
     ]
    }
   ],
   "source": [
    "m_exp = np.exp(m)\n",
    "print(m_exp,m_exp.shape)"
   ]
  },
  {
   "cell_type": "code",
   "execution_count": 130,
   "metadata": {},
   "outputs": [
    {
     "name": "stdout",
     "output_type": "stream",
     "text": [
      "[[ 1.73248689]\n",
      " [ 3.11432231]\n",
      " [ 2.03456809]\n",
      " [ 1.44241218]\n",
      " [ 1.63847198]\n",
      " [ 1.88088492]\n",
      " [ 2.77162539]\n",
      " [ 2.24017648]\n",
      " [ 1.35485991]\n",
      " [ 2.43299089]] (10, 1)\n"
     ]
    }
   ],
   "source": [
    "m_exp_row_sum = m_exp.sum(axis=1).reshape(10,1)\n",
    "print (m_exp_row_sum,m_exp_row_sum.shape)"
   ]
  },
  {
   "cell_type": "code",
   "execution_count": 132,
   "metadata": {},
   "outputs": [
    {
     "name": "stdout",
     "output_type": "stream",
     "text": [
      "[[  1.56761230e-02   9.98990051e-03   7.02843942e-02   8.71531098e-03\n",
      "    1.24817473e-02   5.77204947e-01   1.61334755e-02   1.39987860e-01\n",
      "    1.91138617e-02   1.30412381e-01]\n",
      " [  2.75233283e-02   7.93745755e-04   2.64702882e-01   2.27535546e-01\n",
      "    1.87966681e-03   3.21097145e-01   1.18373887e-01   4.06656662e-04\n",
      "    3.76045271e-02   8.26160358e-05]\n",
      " [  2.24298862e-01   7.80638045e-02   4.34752074e-04   5.70726065e-02\n",
      "    2.07786563e-04   9.29479237e-04   4.91504808e-01   2.52844960e-03\n",
      "    1.29784635e-01   1.51748163e-02]\n",
      " [  4.27042011e-03   1.04405983e-01   6.93283108e-01   2.26060069e-04\n",
      "    4.89768175e-04   4.25025153e-02   1.13156191e-01   3.13967658e-02\n",
      "    4.50067724e-04   9.81912134e-03]\n",
      " [  1.79666332e-04   7.19717568e-02   6.10324750e-01   9.61477609e-03\n",
      "    2.29663541e-01   1.84362393e-04   2.94693152e-03   1.97371029e-02\n",
      "    2.30322221e-04   5.51467906e-02]\n",
      " [  5.31664637e-01   7.37420830e-04   2.21780556e-01   1.28020752e-02\n",
      "    4.82291604e-02   1.22722388e-01   6.15575609e-02   3.54261868e-04\n",
      "    2.98060529e-05   1.22132929e-04]\n",
      " [  7.18861699e-02   3.60799119e-01   2.43729083e-03   2.16399034e-02\n",
      "    1.14451254e-02   2.33870609e-01   1.46906045e-02   2.82559150e-01\n",
      "    4.44943482e-04   2.27084065e-04]\n",
      " [  4.59988287e-03   3.19922214e-02   4.46393402e-01   3.91903764e-01\n",
      "    1.94842010e-04   2.32066951e-04   1.20033771e-01   2.04761965e-03\n",
      "    1.55314250e-03   1.04928794e-03]\n",
      " [  6.50657140e-03   1.38205831e-01   1.90419480e-04   4.58002652e-04\n",
      "    4.05184590e-04   7.38083690e-01   1.10128509e-01   1.78910696e-03\n",
      "    1.09567177e-03   3.13701232e-03]\n",
      " [  2.55715836e-01   7.40578577e-05   2.82696249e-01   2.20217338e-05\n",
      "    1.55519396e-03   4.11016746e-01   1.10638923e-03   5.99467317e-04\n",
      "    3.71563462e-05   4.71768825e-02]]\n"
     ]
    }
   ],
   "source": [
    "m_softmax = m_exp /m_exp_row_sum\n",
    "print (m_softmax)"
   ]
  },
  {
   "cell_type": "code",
   "execution_count": null,
   "metadata": {
    "collapsed": true
   },
   "outputs": [],
   "source": []
  }
 ],
 "metadata": {
  "kernelspec": {
   "display_name": "Python 3",
   "language": "python",
   "name": "python3"
  },
  "language_info": {
   "codemirror_mode": {
    "name": "ipython",
    "version": 3
   },
   "file_extension": ".py",
   "mimetype": "text/x-python",
   "name": "python",
   "nbconvert_exporter": "python",
   "pygments_lexer": "ipython3",
   "version": "3.6.2"
  }
 },
 "nbformat": 4,
 "nbformat_minor": 2
}
