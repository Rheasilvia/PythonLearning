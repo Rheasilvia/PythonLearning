{
 "cells": [
  {
   "cell_type": "code",
   "execution_count": 1,
   "metadata": {
    "collapsed": true
   },
   "outputs": [
    {
     "name": "stderr",
     "output_type": "stream",
     "text": [
      "/home/mj/anaconda3/envs/ten/lib/python3.6/site-packages/h5py/__init__.py:36: FutureWarning: Conversion of the second argument of issubdtype from `float` to `np.floating` is deprecated. In future, it will be treated as `np.float64 == np.dtype(float).type`.\n  from ._conv import register_converters as _register_converters\n"
     ]
    }
   ],
   "source": [
    "import sys\n",
    "\n",
    "sys.path.append('..')\n",
    "import gluonbook as gb\n",
    "from mxnet import autograd, gluon, nd\n",
    "from mxnet.gluon import data as gdata, loss as gloss, nn\n",
    "\n",
    "n_train = 100\n",
    "n_test = 100\n",
    "true_w = [1.2, -3.4, 5.6]\n",
    "true_b = 5\n",
    "\n",
    "features = nd.random.normal(shape=(n_train + n_test, 1))\n",
    "poly_features = nd.concat(features, nd.power(features, 2),\n",
    "                          nd.power(features, 3))\n",
    "labels = (true_w[0] * poly_features[:, 0] + true_w[1] * poly_features[:, 1]\n",
    "          + true_w[2] * poly_features[:, 2] + true_b)\n",
    "\n",
    "labels += nd.random.normal(scale=0.1, shape=labels.shape)\n",
    "\n",
    "\n"
   ]
  },
  {
   "cell_type": "code",
   "execution_count": 2,
   "metadata": {},
   "outputs": [
    {
     "data": {
      "text/plain": [
       "(\n [[2.2122064]\n  [0.7740038]\n  [1.0434403]\n  [1.1839255]\n  [1.8917114]]\n <NDArray 5x1 @cpu(0)>, \n [[ 2.2122064   4.893857   10.826221  ]\n  [ 0.7740038   0.5990819   0.46369165]\n  [ 1.0434403   1.0887678   1.1360642 ]\n  [ 1.1839255   1.4016796   1.6594843 ]\n  [ 1.8917114   3.5785718   6.769625  ]]\n <NDArray 5x3 @cpu(0)>, \n [51.674885   6.3585763  8.949071  11.093454  33.036964 ]\n <NDArray 5 @cpu(0)>)"
      ]
     },
     "execution_count": 2,
     "metadata": {},
     "output_type": "execute_result"
    }
   ],
   "source": [
    "features[:5], poly_features[:5], labels[:5]"
   ]
  },
  {
   "cell_type": "code",
   "execution_count": null,
   "metadata": {},
   "outputs": [],
   "source": []
  }
 ],
 "metadata": {
  "kernelspec": {
   "display_name": "Python 2",
   "language": "python",
   "name": "python2"
  },
  "language_info": {
   "codemirror_mode": {
    "name": "ipython",
    "version": 2
   },
   "file_extension": ".py",
   "mimetype": "text/x-python",
   "name": "python",
   "nbconvert_exporter": "python",
   "pygments_lexer": "ipython2",
   "version": "2.7.6"
  }
 },
 "nbformat": 4,
 "nbformat_minor": 0
}
