{
 "cells": [
  {
   "cell_type": "markdown",
   "metadata": {},
   "source": [
    "## 逻辑回归\n",
    "\n",
    "> 优点：代价不高\n",
    "> 缺点：容易欠拟合，分类精度不够高\n",
    "> 适用数据类型：数值型和标称型数据\n",
    "\n",
    "### Sigmoid函数\n",
    "\n",
    "$$\\sigma(z) = \\frac{1}{1+e^{-z}} $$\n",
    "\n",
    "也成为阶跃函数\n",
    "\n",
    "> 逻辑回归分类器，我们在每个特征上乘以一个回归系数，然后所有的结果值相加。将这个和代入sigmoid函数，进而得到一个范围在0~1之间的值。我们可以将他看成是个__概率估计__。\n",
    "\n",
    "\n",
    "### 基本公式\n",
    "\n",
    "输入记为z:\n",
    "$$z = w_{0}x_{0}+w_{1}x_{1}+w_{2}x_{2}+...+w_{n}x_{n}$$\n",
    "\n",
    "### 梯度上升法\n",
    "基本思想：要找到某函数的最大值，最好的方法是沿着函数的梯度方向探索。梯度标记$\\Delta$\n",
    "\n",
    "函数$f(x,y)$的梯度表示：\n",
    "$${\\Delta}f(x,y) = \\left\\{ \\frac{\\frac{\\partial f(x,y)}{\\partial x}}{\\frac{\\partial f(x,y)}{\\partial y}}\\right\\}$$\n",
    "\n",
    "\n",
    "函数$f(x,y)必须要在待定函数上可微。\n",
    "\n",
    "### 迭代公式-梯度上升\n",
    "$$w:= w + \\alpha\\Delta_w f(w)$$\n",
    "\n",
    "### 迭代公式-梯度下降\n",
    "算法一样，只是符号是减法：\n",
    "$$w:= w - \\alpha\\Delta_w f(w)$$\n",
    "\n",
    "\n",
    "#### 两者的区别\n",
    "- 梯度上升是用来求__最大值__\n",
    "- 梯度下降是用来求__最小值__\n"
   ]
  },
  {
   "cell_type": "markdown",
   "metadata": {
    "collapsed": true
   },
   "source": [
    "## 训练算法：使用梯度上升找到最佳参数\n",
    "\n",
    "伪算法：\n",
    "1. 每个回归系数初始化为1\n",
    "2. 重复R次：\n",
    "   - 计算整个数据集的梯度\n",
    "   - 使用'alpha x gradinte'更新回归系数的向量\n",
    "   - 返回回归系数\n",
    "   "
   ]
  },
  {
   "cell_type": "code",
   "execution_count": 4,
   "metadata": {},
   "outputs": [],
   "source": [
    "import numpy as np\n",
    "import os"
   ]
  },
  {
   "cell_type": "code",
   "execution_count": 5,
   "metadata": {},
   "outputs": [],
   "source": [
    "def loadDataSet():\n",
    "    dataMat=[]; labelMat=[]\n",
    "    fr = os.open('testSet.txt')\n",
    "    for line in fr.readline():\n",
    "        lineArr = line.strip().split()\n",
    "        dataMat.append([1.0,float(lineArr[0]),float(lineArr[1])])\n",
    "        "
   ]
  },
  {
   "cell_type": "code",
   "execution_count": null,
   "metadata": {
    "collapsed": true
   },
   "outputs": [],
   "source": []
  }
 ],
 "metadata": {
  "kernelspec": {
   "display_name": "Python 3",
   "language": "python",
   "name": "python3"
  },
  "language_info": {
   "codemirror_mode": {
    "name": "ipython",
    "version": 3
   },
   "file_extension": ".py",
   "mimetype": "text/x-python",
   "name": "python",
   "nbconvert_exporter": "python",
   "pygments_lexer": "ipython3",
   "version": "3.6.2"
  }
 },
 "nbformat": 4,
 "nbformat_minor": 2
}
