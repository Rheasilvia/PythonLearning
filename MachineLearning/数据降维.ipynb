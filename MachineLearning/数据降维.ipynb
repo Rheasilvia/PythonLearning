{
 "cells": [
  {
   "cell_type": "markdown",
   "metadata": {},
   "source": [
    "## 数据降维\n",
    "\n",
    "降维就是采用某种映射方法，将原高维空间中的数据点映射到低维度的空间中.\n",
    "\n",
    "\n",
    "降维的本质是学习一个映射函数$f:x->y$,通常y的维度要小于x的维度.\n",
    "\n",
    "## 降维方法\n",
    "\n",
    "### 1.主成分分析(PCA)\n",
    "算法:\n",
    "\n",
    "输入:样本集$D=\\{\\vec{x_1},\\vec{x_2},...,\\vec{x_N}\\}$\n",
    "\n",
    "输出:投影矩阵$W=(\\vec{w_1},\\vec{w_2},...,\\vec{w_d})$\n",
    "\n",
    "#### 算法步骤\n",
    "- 对所有样本中心化操作：$$\\vec{x_i}\\leftarrow \\vec{x_1}-\\frac{1}{N}\\sum\\limits_{j=1}^N{\\vec{x_j}}$$\n",
    "- 计算样本的协方差矩阵$XX^T$\n",
    "- 对协方差矩阵$XX^T$做特征值分解\n",
    "- 取最大的d个特征值对应的特征向量$\\vec{w_1},\\vec{w_2},...,\\vec{w_d}$,构造投影矩阵$W=(\\vec{w_1},\\vec{w_2},...,\\vec{w_d})$.\n",
    "\n",
    "通常低维空间维数d的选取值的方法有两种：\n",
    "1. 通过交叉验证选取较好的d\n",
    "2. 从算法原理的角度设置一个阈值，比如t=95%，然后使成立的最小的d.\n",
    "$$\\frac{\\sum\\nolimits_{i=1}^d{\\lambda}}{\\sum\\nolimits_{i=1}^n{\\lambda}}\\geq{t}$$\n",
    "其中$\\lambda_i$从大到小排序."
   ]
  },
  {
   "cell_type": "code",
   "execution_count": 1,
   "metadata": {},
   "outputs": [
    {
     "name": "stderr",
     "output_type": "stream",
     "text": [
      "/anaconda3/envs/ten/lib/python3.6/importlib/_bootstrap.py:219: RuntimeWarning: numpy.dtype size changed, may indicate binary incompatibility. Expected 96, got 88\n",
      "  return f(*args, **kwds)\n"
     ]
    }
   ],
   "source": [
    "import numpy as np\n",
    "import matplotlib.pyplot as plt\n",
    "from sklearn import datasets,decomposition,manifold"
   ]
  },
  {
   "cell_type": "code",
   "execution_count": 2,
   "metadata": {},
   "outputs": [],
   "source": [
    "def load_data():\n",
    "    iris = datasets.load_iris()\n",
    "    return iris.data,iris.target"
   ]
  },
  {
   "cell_type": "code",
   "execution_count": 3,
   "metadata": {},
   "outputs": [],
   "source": [
    "def test_PCA(*data):\n",
    "    X,y = data\n",
    "    pca = decomposition.PCA(n_components=None)\n",
    "    pca.fit(X)\n",
    "    print('explained variance ratio :%s' % str(pca.explained_variance_ratio_))"
   ]
  },
  {
   "cell_type": "code",
   "execution_count": 4,
   "metadata": {},
   "outputs": [
    {
     "name": "stdout",
     "output_type": "stream",
     "text": [
      "explained variance ratio :[0.92461621 0.05301557 0.01718514 0.00518309]\n"
     ]
    }
   ],
   "source": [
    "X,y = load_data()\n",
    "test_PCA(X,y)"
   ]
  },
  {
   "cell_type": "code",
   "execution_count": null,
   "metadata": {},
   "outputs": [],
   "source": []
  }
 ],
 "metadata": {
  "kernelspec": {
   "display_name": "Python 3",
   "language": "python",
   "name": "python3"
  },
  "language_info": {
   "codemirror_mode": {
    "name": "ipython",
    "version": 3
   },
   "file_extension": ".py",
   "mimetype": "text/x-python",
   "name": "python",
   "nbconvert_exporter": "python",
   "pygments_lexer": "ipython3",
   "version": "3.6.4"
  }
 },
 "nbformat": 4,
 "nbformat_minor": 2
}
