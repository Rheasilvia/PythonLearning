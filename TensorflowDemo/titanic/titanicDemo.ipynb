{
 "cells": [
  {
   "cell_type": "code",
   "execution_count": 1,
   "metadata": {},
   "outputs": [
    {
     "name": "stderr",
     "output_type": "stream",
     "text": [
      "/anaconda3/lib/python3.6/importlib/_bootstrap.py:205: RuntimeWarning: compiletime version 3.5 of module 'tensorflow.python.framework.fast_tensor_util' does not match runtime version 3.6\n",
      "  return f(*args, **kwds)\n"
     ]
    }
   ],
   "source": [
    "import tensorflow as tf\n",
    "import os"
   ]
  },
  {
   "cell_type": "code",
   "execution_count": 2,
   "metadata": {
    "collapsed": true
   },
   "outputs": [],
   "source": [
    "def read_csv(batch_size,file_name,record_defaults):\n",
    "    filename_queue= tf.train.string_input_producer([os.path.dirname(__file__) + \"/\" + file_name])\n",
    "    \n",
    "    reader = tf.TextLineReader(skip_header_lines=1)\n",
    "    key,value = reader.read(filename_queue)\n",
    "    \n",
    "    #decode_csv\n",
    "    decoded = tf.decode_csv(value,record_defaults=record_defaults)\n",
    "    \n",
    "    #实际上会读取一个文件，并加载到一个张量总的batch_size行\n",
    "    return tf.train.shuffle_batch(decoded,batch_size=batch_size,capacity=batch_size * 50,min_after_dequeue=batch_size)\n"
   ]
  },
  {
   "cell_type": "code",
   "execution_count": 3,
   "metadata": {
    "collapsed": true
   },
   "outputs": [],
   "source": [
    "def inputs():\n",
    "    passenger_id,survived,pclass,name,sex,age,sibsp,parch,ticket,fare,cabin,embarked = \\\n",
    "    read_csv(100,\"train.csv\",[[0.0],[0.0],[0],[\"\"],[\"\"],[0.0],[0.0],[0.0],[\"\"],[0.0],[\"\"],[\"\"]])\n",
    "    \n",
    "    #转换属性数据\n",
    "    is_first_class = tf.to_float(tf.equal(pclass,[1]))\n",
    "    is_seconde_class = tf.to_float(tf.equal(pclass,[2]))\n",
    "    is_third_class = tf.to_float(tf.equal(pclass,[3]))\n",
    "    \n",
    "    gender = tf.to_float(tf.equal(sex,[\"female\"]))\n",
    "    \n",
    "    #最终将所有特征排列在一个矩阵中，然后对该矩阵转置，使其每一行对应一个样本，每列对应一个特征\n",
    "    features = tf.transpose(tf.pack([is_first_class,is_seconde_class,gender,age]))\n",
    "    \n",
    "    survived = tf.reshape(survived,[100,1])\n",
    "    \n",
    "    return features,survived"
   ]
  },
  {
   "cell_type": "code",
   "execution_count": 5,
   "metadata": {},
   "outputs": [],
   "source": [
    "def train(total_loss):\n",
    "    learning_rate = 0.01\n",
    "    return\n"
   ]
  },
  {
   "cell_type": "code",
   "execution_count": null,
   "metadata": {
    "collapsed": true
   },
   "outputs": [],
   "source": []
  }
 ],
 "metadata": {
  "kernelspec": {
   "display_name": "Python 3",
   "language": "python",
   "name": "python3"
  },
  "language_info": {
   "codemirror_mode": {
    "name": "ipython",
    "version": 3
   },
   "file_extension": ".py",
   "mimetype": "text/x-python",
   "name": "python",
   "nbconvert_exporter": "python",
   "pygments_lexer": "ipython3",
   "version": "3.6.2"
  }
 },
 "nbformat": 4,
 "nbformat_minor": 2
}
