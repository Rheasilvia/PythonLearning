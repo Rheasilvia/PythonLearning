{
 "cells": [
  {
   "cell_type": "code",
   "execution_count": 3,
   "metadata": {
    "collapsed": true
   },
   "outputs": [],
   "source": [
    "import tensorflow as tf"
   ]
  },
  {
   "cell_type": "code",
   "execution_count": 4,
   "metadata": {
    "collapsed": true
   },
   "outputs": [],
   "source": [
    "#显式创建一个graph对象\n",
    "graph = tf.Graph()"
   ]
  },
  {
   "cell_type": "code",
   "execution_count": 11,
   "metadata": {
    "collapsed": true
   },
   "outputs": [],
   "source": [
    "with graph.as_default():\n",
    "    with tf.name_scope(\"variables\"):\n",
    "        #跟踪数据流图云心次数的variable对象\n",
    "        global_step = tf.Variable(0,dtype=tf.float32,trainable=False,name=\"global_step\")\n",
    "        \n",
    "        #追踪所有输出随时间的累加和和variable对象\n",
    "        total_output = tf.Variable(0.0,dtype=tf.float32,trainable=False,name=\"total_output\")\n",
    "        \n",
    "    #主要的变换op\n",
    "    with tf.name_scope(\"transformation\"):\n",
    "        #独立的输入层\n",
    "        with tf.name_scope(\"input\"):\n",
    "            #创建可接收一个向量的占位符\n",
    "            a = tf.placeholder(tf.float32,shape=[None],name=\"input_placeholder_a\")\n",
    "            \n",
    "        #独立的中间层\n",
    "        with tf.name_scope(\"intermediate_layer\"):\n",
    "            b = tf.reduce_prod(a,name=\"product_b\")\n",
    "            c = tf.reduce_sum(a,name=\"sum_c\")\n",
    "            \n",
    "        #独立的输出层\n",
    "        with tf.name_scope(\"output\"):\n",
    "            output = tf.add(b,c,name=\"output\")\n",
    "    \n",
    "    with tf.name_scope(\"update\"):\n",
    "        #用最新的输出更新variable对象total_output\n",
    "        update_total = total_output.assign_add(output)\n",
    "        \n",
    "        #将最前面的variable对象global_step增1，只要数据流图运行，该操作便需要进行\n",
    "        increment_step = global_step.assign_add(1)\n",
    "        \n",
    "    #汇总op\n",
    "    with tf.name_scope(\"summaries\"):\n",
    "        avg = tf.div(update_total,tf.cast(increment_step,tf.float32),name=\"average\")\n",
    "        \n",
    "        #创建输出节点汇总数据\n",
    "        tf.summary.scalar(tensor=output,name=\"output_summary\")\n",
    "        tf.summary.scalar(tensor=update_total,name=\"total_summary\")\n",
    "        tf.summary.scalar(tensor=avg,name=\"avergae_summary\")\n",
    "        \n",
    "        #全局variable对象和op\n",
    "        with tf.name_scope(\"global_ops\"):\n",
    "            #初始化op\n",
    "            init = tf.global_variables_initializer()\n",
    "            #将所有汇总数据合并到一个op中\n",
    "            merged_summaries = tf.summary.merge_all()\n",
    "    #用明确创建的graph对象启动回话\n",
    "    sess = tf.Session(graph=graph)\n",
    "    \n",
    "    #开启一个summarywrite对象，保存汇总数据\n",
    "    writer = tf.summary.FileWriter('./improved_graph',graph)\n",
    "    \n",
    "    #初始化variable对象\n",
    "    sess.run(init)\n",
    "    \n",
    "    def run_graph(input_tensor):\n",
    "        feed_dict = {a:input_tensor}\n",
    "        _,step,summary = sess.run([output,increment_step,merged_summaries],feed_dict=feed_dict)\n",
    "        \n",
    "        writer.add_summary(summary,global_step=step)"
   ]
  },
  {
   "cell_type": "code",
   "execution_count": 12,
   "metadata": {
    "collapsed": true
   },
   "outputs": [],
   "source": [
    "# 用不同数据流运行该数据流图\n",
    "run_graph([2,8])\n",
    "run_graph([3,1,3,3])\n",
    "run_graph([8])\n",
    "run_graph([1,2,3])\n",
    "run_graph([11,4])\n",
    "run_graph([4,1])\n",
    "run_graph([7,3,1])\n",
    "run_graph([6,3])\n",
    "run_graph([0,2])\n",
    "run_graph([4,5,6])"
   ]
  },
  {
   "cell_type": "code",
   "execution_count": 13,
   "metadata": {
    "collapsed": true
   },
   "outputs": [],
   "source": [
    "#将数据汇总写入磁盘\n",
    "writer.flush()\n",
    "\n",
    "#关闭summarywrite对象\n",
    "writer.close()\n",
    "\n",
    "#关闭session对象\n",
    "sess.close()"
   ]
  },
  {
   "cell_type": "code",
   "execution_count": null,
   "metadata": {
    "collapsed": true
   },
   "outputs": [],
   "source": []
  }
 ],
 "metadata": {
  "kernelspec": {
   "display_name": "Python 3",
   "language": "python",
   "name": "python3"
  },
  "language_info": {
   "codemirror_mode": {
    "name": "ipython",
    "version": 3
   },
   "file_extension": ".py",
   "mimetype": "text/x-python",
   "name": "python",
   "nbconvert_exporter": "python",
   "pygments_lexer": "ipython3",
   "version": "3.6.2"
  }
 },
 "nbformat": 4,
 "nbformat_minor": 2
}
