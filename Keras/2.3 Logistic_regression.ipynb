{
 "cells": [
  {
   "cell_type": "markdown",
   "metadata": {},
   "source": [
    "## 逻辑回归"
   ]
  },
  {
   "cell_type": "code",
   "execution_count": 1,
   "metadata": {},
   "outputs": [
    {
     "name": "stderr",
     "output_type": "stream",
     "text": [
      "/home/mj/.conda/envs/ten/lib/python3.6/site-packages/h5py/__init__.py:36: FutureWarning: Conversion of the second argument of issubdtype from `float` to `np.floating` is deprecated. In future, it will be treated as `np.float64 == np.dtype(float).type`.\n",
      "  from ._conv import register_converters as _register_converters\n"
     ]
    }
   ],
   "source": [
    "import os\n",
    "os.environ['TF_CPP_MIN_LOG_LEVEL'] = '2'\n",
    "\n",
    "import numpy as np\n",
    "import tensorflow as tf\n",
    "from tensorflow.examples.tutorials.mnist import input_data\n",
    "import time"
   ]
  },
  {
   "cell_type": "code",
   "execution_count": 2,
   "metadata": {},
   "outputs": [
    {
     "name": "stdout",
     "output_type": "stream",
     "text": [
      "Extracting ./data/mnist/train-images-idx3-ubyte.gz\n",
      "Extracting ./data/mnist/train-labels-idx1-ubyte.gz\n",
      "Extracting ./data/mnist/t10k-images-idx3-ubyte.gz\n",
      "Extracting ./data/mnist/t10k-labels-idx1-ubyte.gz\n"
     ]
    }
   ],
   "source": [
    "##1.读取数据\n",
    "mnist = input_data.read_data_sets('./data/mnist',one_hot=True)"
   ]
  },
  {
   "cell_type": "code",
   "execution_count": 3,
   "metadata": {},
   "outputs": [
    {
     "data": {
      "text/plain": [
       "(55000, 784)"
      ]
     },
     "execution_count": 3,
     "metadata": {},
     "output_type": "execute_result"
    }
   ],
   "source": [
    "#2.查看数据维度\n",
    "mnist.train.images.shape"
   ]
  },
  {
   "cell_type": "code",
   "execution_count": 4,
   "metadata": {},
   "outputs": [
    {
     "data": {
      "text/plain": [
       "(55000, 10)"
      ]
     },
     "execution_count": 4,
     "metadata": {},
     "output_type": "execute_result"
    }
   ],
   "source": [
    "#3.查看target维度\n",
    "mnist.train.labels.shape"
   ]
  },
  {
   "cell_type": "code",
   "execution_count": 5,
   "metadata": {},
   "outputs": [],
   "source": [
    "batch_size = 128\n",
    "X = tf.placeholder(tf.float32,[batch_size,784],name='X_placeholder')\n",
    "Y = tf.placeholder(tf.int32,[batch_size,10],name='Y_placeholder')"
   ]
  },
  {
   "cell_type": "code",
   "execution_count": 6,
   "metadata": {},
   "outputs": [],
   "source": [
    "w = tf.Variable(tf.random_normal(shape=[784,10],stddev=0.01),name='weights')\n",
    "b = tf.Variable(tf.zeros([1,10],name='bias'))"
   ]
  },
  {
   "cell_type": "code",
   "execution_count": 7,
   "metadata": {},
   "outputs": [],
   "source": [
    "logits = tf.matmul(X,w)+b#拿到每个类别的score"
   ]
  },
  {
   "cell_type": "code",
   "execution_count": 8,
   "metadata": {},
   "outputs": [],
   "source": [
    "##计算多分类softmax的loss function\n",
    "#求交叉熵损失,直接从得分和y得到交叉熵\n",
    "entropy = tf.nn.softmax_cross_entropy_with_logits(logits=logits,labels=Y,name='loss')\n",
    "\n",
    "#求平均\n",
    "loss = tf.reduce_mean(entropy)"
   ]
  },
  {
   "cell_type": "code",
   "execution_count": 9,
   "metadata": {},
   "outputs": [],
   "source": [
    "learning_rate = 0.01\n",
    "#adam不保证全局最小点\n",
    "optimizer = tf.train.AdamOptimizer(learning_rate).minimize(loss)"
   ]
  },
  {
   "cell_type": "code",
   "execution_count": 22,
   "metadata": {},
   "outputs": [
    {
     "name": "stdout",
     "output_type": "stream",
     "text": [
      "Average loss epoch0:0.3659602535285038\n",
      "Average loss epoch1:0.29102559082019025\n",
      "Average loss epoch2:0.28658302331512625\n",
      "Average loss epoch3:0.2779349525630613\n",
      "Average loss epoch4:0.2726540446698249\n",
      "Average loss epoch5:0.2797471414600219\n",
      "Average loss epoch6:0.26561596314042873\n",
      "Average loss epoch7:0.2712698404640307\n",
      "Average loss epoch8:0.2641519125559669\n",
      "Average loss epoch9:0.26742032100826435\n",
      "Average loss epoch10:0.26415419971053694\n",
      "Average loss epoch11:0.26020271827777225\n",
      "Average loss epoch12:0.26169167196764537\n",
      "Average loss epoch13:0.2625817969128802\n",
      "Average loss epoch14:0.26130288257534967\n",
      "Average loss epoch15:0.2553508942186971\n",
      "Average loss epoch16:0.26190199612668064\n",
      "Average loss epoch17:0.250824469195935\n",
      "Average loss epoch18:0.2566128178111045\n",
      "Average loss epoch19:0.2524394335134046\n",
      "Average loss epoch20:0.2635448021696998\n",
      "Average loss epoch21:0.2534775614286914\n",
      "Average loss epoch22:0.2565439400938285\n",
      "Average loss epoch23:0.2553741223154924\n",
      "Average loss epoch24:0.25304816843885364\n",
      "Average loss epoch25:0.25382474459933513\n",
      "Average loss epoch26:0.2551416260101301\n",
      "Average loss epoch27:0.2510004535421625\n",
      "Average loss epoch28:0.2535161942174107\n",
      "Average loss epoch29:0.2474320162009526\n",
      "Total time:9.64615535736084 second\n",
      "Optimaization Finished\n",
      "Accuracy 0.9178\n"
     ]
    }
   ],
   "source": [
    "n_epochs = 30\n",
    "with tf.Session() as sess:\n",
    "    writer = tf.summary.FileWriter('./graphs/logistic_reg',sess.graph)\n",
    "    \n",
    "    start_time = time.time()\n",
    "    sess.run(tf.global_variables_initializer())\n",
    "    n_batches = int(mnist.train.num_examples/batch_size)\n",
    "    for i in range(n_epochs):\n",
    "        total_loss = 0\n",
    "        for _ in range(n_batches):\n",
    "            X_batch,Y_batch = mnist.train.next_batch(batch_size)\n",
    "            _,loss_batch = sess.run([optimizer,loss],feed_dict={X:X_batch,Y:Y_batch})\n",
    "            total_loss += loss_batch\n",
    "        print ('Average loss epoch{0}:{1}'.format(i,total_loss/n_batches))\n",
    "        \n",
    "    print ('Total time:{0} second'.format(time.time() - start_time))\n",
    "    print ('Optimaization Finished')\n",
    "    \n",
    "    #测试模型\n",
    "    preds = tf.nn.softmax(logits)\n",
    "    correct_preds = tf.equal(tf.argmax(preds,1),tf.argmax(Y,1))\n",
    "    accuracy = tf.reduce_sum(tf.cast(correct_preds,tf.float32))\n",
    "    \n",
    "    n_batches = int(mnist.test.num_examples/batch_size)\n",
    "    total_correct_preds = 0\n",
    "    for i in range(n_batches):\n",
    "        X_batch,Y_batch = mnist.test.next_batch(batch_size)\n",
    "        accuracy_batch = sess.run([accuracy],feed_dict={X:X_batch,Y:Y_batch})\n",
    "        total_correct_preds += accuracy_batch[0]\n",
    "    \n",
    "    print ('Accuracy {0}'.format(total_correct_preds/mnist.test.num_examples))\n",
    "    \n",
    "    writer.close()\n",
    "    \n",
    "    "
   ]
  },
  {
   "cell_type": "code",
   "execution_count": null,
   "metadata": {},
   "outputs": [],
   "source": []
  }
 ],
 "metadata": {
  "kernelspec": {
   "display_name": "Python 3",
   "language": "python",
   "name": "python3"
  },
  "language_info": {
   "codemirror_mode": {
    "name": "ipython",
    "version": 3
   },
   "file_extension": ".py",
   "mimetype": "text/x-python",
   "name": "python",
   "nbconvert_exporter": "python",
   "pygments_lexer": "ipython3",
   "version": "3.6.4"
  }
 },
 "nbformat": 4,
 "nbformat_minor": 2
}
