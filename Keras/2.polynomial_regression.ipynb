{
 "cells": [
  {
   "cell_type": "markdown",
   "metadata": {},
   "source": [
    "# 多项式回归\n",
    "\n",
    "## 1.数据准备"
   ]
  },
  {
   "cell_type": "code",
   "execution_count": 1,
   "metadata": {},
   "outputs": [
    {
     "name": "stderr",
     "output_type": "stream",
     "text": [
      "/home/mj/.conda/envs/ten/lib/python3.6/site-packages/h5py/__init__.py:36: FutureWarning: Conversion of the second argument of issubdtype from `float` to `np.floating` is deprecated. In future, it will be treated as `np.float64 == np.dtype(float).type`.\n",
      "  from ._conv import register_converters as _register_converters\n"
     ]
    },
    {
     "data": {
      "image/png": "[encoded data removed]",
      "text/plain": [
       "<Figure size 1008x576 with 1 Axes>"
      ]
     },
     "metadata": {},
     "output_type": "display_data"
    }
   ],
   "source": [
    "%matplotlib inline\n",
    "import numpy as np\n",
    "import tensorflow as tf\n",
    "import matplotlib.pyplot as plt\n",
    "plt.rcParams['figure.figsize'] = (14,8)\n",
    "\n",
    "n_observation = 100\n",
    "xs = np.linspace(-3,3,n_observation)\n",
    "ys = np.sin(xs) + np.random.uniform(-0.5,0.5,n_observation)\n",
    "plt.scatter(xs,ys)\n",
    "plt.show()"
   ]
  },
  {
   "cell_type": "code",
   "execution_count": 2,
   "metadata": {},
   "outputs": [],
   "source": [
    "X = tf.placeholder(tf.float32,name='X')\n",
    "Y = tf.placeholder(tf.float32,name='Y')"
   ]
  },
  {
   "cell_type": "code",
   "execution_count": 3,
   "metadata": {},
   "outputs": [],
   "source": [
    "W = tf.Variable(tf.random_normal([1]),name='weight')\n",
    "b = tf.Variable(tf.random_normal([1]),name='bias')"
   ]
  },
  {
   "cell_type": "code",
   "execution_count": 4,
   "metadata": {},
   "outputs": [],
   "source": [
    "Y_pred = tf.add(tf.multiply(X,W),b)\n",
    "#添加高次项\n",
    "W_2 = tf.Variable(tf.random_normal([1]),name='weight_2')\n",
    "Y_pred = tf.add(tf.multiply(tf.pow(X,2),W_2),Y_pred)\n",
    "W_3 = tf.Variable(tf.random_normal([1]),name='weight_3')\n",
    "Y_pred = tf.add(tf.multiply(tf.pow(X,3),W_3),Y_pred)"
   ]
  },
  {
   "cell_type": "code",
   "execution_count": 5,
   "metadata": {},
   "outputs": [],
   "source": [
    "smaple_sum = xs.shape[0]\n",
    "loss = tf.reduce_sum(tf.pow(Y_pred -Y,2)) / smaple_sum"
   ]
  },
  {
   "cell_type": "code",
   "execution_count": 6,
   "metadata": {},
   "outputs": [],
   "source": [
    "learning_rate = 0.01\n",
    "optimizer = tf.train.GradientDescentOptimizer(learning_rate).minimize(loss)"
   ]
  },
  {
   "cell_type": "code",
   "execution_count": 7,
   "metadata": {},
   "outputs": [
    {
     "name": "stdout",
     "output_type": "stream",
     "text": [
      "Epoch 0:0.7779122897841433\n",
      "Epoch 20:0.0024255863251164116\n",
      "Epoch 40:0.001984438613694692\n",
      "Epoch 60:0.0016784230671512558\n",
      "Epoch 80:0.0014648992723829224\n",
      "Epoch 100:0.0013159231578680419\n",
      "Epoch 120:0.0012120090439850628\n",
      "Epoch 140:0.0011395628865045638\n",
      "Epoch 160:0.0010890909197019028\n",
      "Epoch 180:0.0010539646671201552\n",
      "Epoch 200:0.0010295518703502893\n",
      "Epoch 220:0.0010126168016395098\n",
      "Epoch 240:0.0010008974225565338\n",
      "Epoch 260:0.0009928122821484097\n",
      "Epoch 280:0.0009872569143453802\n",
      "Epoch 300:0.0009834594670862628\n",
      "Epoch 320:0.000980880693269448\n",
      "Epoch 340:0.0009791448469597696\n",
      "Epoch 360:0.000977989715003673\n",
      "Epoch 380:0.00097723299085942\n",
      "Epoch 400:0.0009767478800465313\n",
      "Epoch 420:0.0009764464946384819\n",
      "Epoch 440:0.0009762683517493898\n",
      "Epoch 460:0.000976171606634324\n",
      "Epoch 480:0.0009761278833025245\n",
      "Epoch 500:0.0009761177452827497\n",
      "Epoch 520:0.000976127549819239\n",
      "Epoch 540:0.0009761491139585132\n",
      "Epoch 560:0.0009761765974303672\n",
      "Epoch 580:0.0009762063714146052\n",
      "Epoch 600:0.0009762360072664933\n",
      "Epoch 620:0.0009762643178981989\n",
      "Epoch 640:0.0009762903257660582\n",
      "Epoch 660:0.000976314159693743\n",
      "Epoch 680:0.0009763349836157431\n",
      "Epoch 700:0.0009763534231660742\n",
      "Epoch 720:0.0009763695724797117\n",
      "Epoch 740:0.0009763838593670471\n",
      "Epoch 760:0.0009763957077069563\n",
      "Epoch 780:0.0009764060855164303\n",
      "Epoch 800:0.0009764147742316708\n",
      "Epoch 820:0.0009764224387444642\n",
      "Epoch 840:0.0009764287993280619\n",
      "Epoch 860:0.0009764342103815694\n",
      "Epoch 880:0.0009764387536455388\n",
      "Epoch 900:0.0009764428167574124\n",
      "Epoch 920:0.0009764460900638028\n",
      "Epoch 940:0.0009764487085860196\n",
      "Epoch 960:0.0009764510310822061\n",
      "Epoch 980:0.0009764528354801882\n"
     ]
    }
   ],
   "source": [
    "n_samples = xs.shape[0]\n",
    "with tf.Session() as sess:\n",
    "    sess.run(tf.global_variables_initializer())\n",
    "    \n",
    "    writer = tf.summary.FileWriter('./graphs/polynomial_reg',sess.graph)\n",
    "    \n",
    "    for i in range(1000):\n",
    "        total_loss = 0\n",
    "        for x,y in zip(xs,ys):\n",
    "            _,l = sess.run([optimizer,loss],feed_dict={X:x,Y:y})\n",
    "            total_loss += l\n",
    "        if i%20 == 0:\n",
    "            print('Epoch {0}:{1}'.format(i,total_loss/n_samples))\n",
    "            \n",
    "\n",
    "    writer.close()\n",
    "    W,W_2,W_3,b = sess.run([W,W_2,W_3,b])\n",
    "    "
   ]
  }
 ],
 "metadata": {
  "kernelspec": {
   "display_name": "Python 3",
   "language": "python",
   "name": "python3"
  },
  "language_info": {
   "codemirror_mode": {
    "name": "ipython",
    "version": 3
   },
   "file_extension": ".py",
   "mimetype": "text/x-python",
   "name": "python",
   "nbconvert_exporter": "python",
   "pygments_lexer": "ipython3",
   "version": "3.6.4"
  }
 },
 "nbformat": 4,
 "nbformat_minor": 2
}
