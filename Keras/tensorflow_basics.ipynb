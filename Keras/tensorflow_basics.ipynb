{
 "cells": [
  {
   "cell_type": "code",
   "execution_count": 1,
   "metadata": {},
   "outputs": [
    {
     "name": "stderr",
     "output_type": "stream",
     "text": [
      "/home/mj/.conda/envs/ten/lib/python3.6/site-packages/h5py/__init__.py:36: FutureWarning: Conversion of the second argument of issubdtype from `float` to `np.floating` is deprecated. In future, it will be treated as `np.float64 == np.dtype(float).type`.\n",
      "  from ._conv import register_converters as _register_converters\n"
     ]
    }
   ],
   "source": [
    "import tensorflow as tf"
   ]
  },
  {
   "cell_type": "code",
   "execution_count": 7,
   "metadata": {},
   "outputs": [
    {
     "name": "stdout",
     "output_type": "stream",
     "text": [
      "[[0 2]\n",
      " [4 6]]\n"
     ]
    }
   ],
   "source": [
    "a = tf.constant([2,2],name='a')\n",
    "b = tf.constant([[0,1],[2,3]],name='b')\n",
    "x = tf.multiply(a,b,name='dot_product')\n",
    "with tf.Session() as sess:\n",
    "    #写到日志文件里去\n",
    "    writer = tf.summary.FileWriter('./graphs/const_mul',sess.graph)\n",
    "    print(sess.run(x))\n",
    "writer.close()"
   ]
  },
  {
   "cell_type": "code",
   "execution_count": 2,
   "metadata": {},
   "outputs": [],
   "source": [
    "x =2 \n",
    "y = 3\n",
    "add_op = tf.add(x,y)\n",
    "mul_op = tf.multiply(x,y)\n",
    "useless = tf.multiply(x,add_op)\n",
    "pow_op = tf.pow(add_op,mul_op)\n",
    "with tf.Session() as sess:\n",
    "    z = sess.run(pow_op)"
   ]
  },
  {
   "cell_type": "markdown",
   "metadata": {},
   "source": [
    "## 启动TensorBoard\n",
    "命令行端运行\n",
    "$python [yourprogram].py\n",
    "\n",
    "$ tensorboard —logdir=“./graphs” —port 7001\n",
    "\n",
    "打开浏览器访问:http://localhost:7001\n",
    "\n",
    "## 指定CPU or GPU去完成session里的运算\n",
    "```\n",
    "#构建graph\n",
    "with tf.device('/gpu:2'):\n",
    "    a = tf.constant([1.0,2.0],name='a')\n",
    "    b = tf.constant([1.0,2.0],name='b')\n",
    "    c = tf.matmul(a,b)\n",
    "    \n",
    "#构建session 设置log_device_placement 为True\n",
    "sess = tf.Session(config=tf.ConfigProto(log_device_placement=True))\n",
    "\n",
    "#进行op定义运算\n",
    "print (sess.run(c))\n",
    "```\n"
   ]
  },
  {
   "cell_type": "markdown",
   "metadata": {},
   "source": [
    "## 1.准备数据"
   ]
  },
  {
   "cell_type": "code",
   "execution_count": 1,
   "metadata": {},
   "outputs": [
    {
     "name": "stderr",
     "output_type": "stream",
     "text": [
      "/home/mj/.conda/envs/ten/lib/python3.6/site-packages/h5py/__init__.py:36: FutureWarning: Conversion of the second argument of issubdtype from `float` to `np.floating` is deprecated. In future, it will be treated as `np.float64 == np.dtype(float).type`.\n",
      "  from ._conv import register_converters as _register_converters\n"
     ]
    },
    {
     "data": {
      "image/png": "[encoded data removed]",
      "text/plain": [
       "<Figure size 1008x576 with 1 Axes>"
      ]
     },
     "metadata": {},
     "output_type": "display_data"
    }
   ],
   "source": [
    "%matplotlib inline\n",
    "import numpy as np\n",
    "import tensorflow as tf\n",
    "import matplotlib.pyplot as plt\n",
    "plt.rcParams['figure.figsize']=(14,8)\n",
    "\n",
    "n_observations = 100\n",
    "xs = np.linspace(-3,3,n_observations)\n",
    "ys = np.sin(xs) + np.random.uniform(-0.5,0.5,n_observations)\n",
    "plt.scatter(xs,ys)\n",
    "plt.show()"
   ]
  },
  {
   "cell_type": "markdown",
   "metadata": {},
   "source": [
    "## 2. 准备好placeholder"
   ]
  },
  {
   "cell_type": "code",
   "execution_count": 2,
   "metadata": {},
   "outputs": [],
   "source": [
    "X = tf.placeholder(tf.float32,name='X')\n",
    "Y = tf.placeholder(tf.float32,name='Y')"
   ]
  },
  {
   "cell_type": "markdown",
   "metadata": {},
   "source": [
    "## 3.初始化参数/权重"
   ]
  },
  {
   "cell_type": "code",
   "execution_count": 3,
   "metadata": {},
   "outputs": [],
   "source": [
    "W = tf.Variable(tf.random_normal([1]),name='weight')\n",
    "b = tf.Variable(tf.random_normal([1]),name='bias')"
   ]
  },
  {
   "cell_type": "markdown",
   "metadata": {},
   "source": [
    "## 4.计算年预测结果"
   ]
  },
  {
   "cell_type": "code",
   "execution_count": 4,
   "metadata": {},
   "outputs": [],
   "source": [
    "Y_pred = tf.add(tf.multiply(X,W),b)"
   ]
  },
  {
   "cell_type": "markdown",
   "metadata": {},
   "source": [
    "## 5.计算损失函数值"
   ]
  },
  {
   "cell_type": "code",
   "execution_count": 5,
   "metadata": {},
   "outputs": [],
   "source": [
    "loss = tf.square(Y - Y_pred,name='loss')"
   ]
  },
  {
   "cell_type": "markdown",
   "metadata": {},
   "source": [
    "## 6.初始化optimizer"
   ]
  },
  {
   "cell_type": "code",
   "execution_count": 6,
   "metadata": {},
   "outputs": [],
   "source": [
    "learning_rate = 0.01\n",
    "optimizer = tf.train.GradientDescentOptimizer(learning_rate).minimize(loss)"
   ]
  },
  {
   "cell_type": "code",
   "execution_count": 7,
   "metadata": {},
   "outputs": [
    {
     "data": {
      "text/plain": [
       "<tf.Operation 'GradientDescent' type=NoOp>"
      ]
     },
     "execution_count": 7,
     "metadata": {},
     "output_type": "execute_result"
    }
   ],
   "source": [
    "optimizer"
   ]
  },
  {
   "cell_type": "markdown",
   "metadata": {},
   "source": [
    "## 7.指定迭代次数，并在session里执行graph"
   ]
  },
  {
   "cell_type": "code",
   "execution_count": 8,
   "metadata": {},
   "outputs": [
    {
     "name": "stdout",
     "output_type": "stream",
     "text": [
      "Epoch 0:[2.0883698]\n",
      "Epoch 5:[0.21778367]\n",
      "Epoch 10:[0.21778461]\n",
      "Epoch 15:[0.21778461]\n",
      "Epoch 20:[0.21778461]\n",
      "Epoch 25:[0.21778461]\n",
      "Epoch 30:[0.21778461]\n",
      "Epoch 35:[0.21778461]\n",
      "Epoch 40:[0.21778461]\n",
      "Epoch 45:[0.21778461]\n"
     ]
    }
   ],
   "source": [
    "n_smaple = xs.shape[0]\n",
    "init = tf.global_variables_initializer()\n",
    "with tf.Session() as sess:\n",
    "    #记得初始化所有变量\n",
    "    sess.run(init)\n",
    "    writer = tf.summary.FileWriter('./graphs/linear_reg',sess.graph)\n",
    "    \n",
    "    #训练模型\n",
    "    for i in range(50):\n",
    "        total_loss = 0\n",
    "        for x,y in zip(xs,ys):\n",
    "#             print ('x:{0},y:{1}'.format(x,y))\n",
    "            #通过feed_dic把数据灌进去\n",
    "            _, l  = sess.run([optimizer,loss],feed_dict={X:x,Y:y})\n",
    "            total_loss +=l\n",
    "        if i%5 == 0:\n",
    "            print ('Epoch {0}:{1}'.format(i,total_loss/n_smaple))\n",
    "        \n",
    "    #关闭writer\n",
    "    writer.close()\n",
    "    \n",
    "    #取出w和b的值\n",
    "    W, b = sess.run([W,b])"
   ]
  },
  {
   "cell_type": "code",
   "execution_count": null,
   "metadata": {},
   "outputs": [],
   "source": []
  }
 ],
 "metadata": {
  "kernelspec": {
   "display_name": "Python 3",
   "language": "python",
   "name": "python3"
  },
  "language_info": {
   "codemirror_mode": {
    "name": "ipython",
    "version": 3
   },
   "file_extension": ".py",
   "mimetype": "text/x-python",
   "name": "python",
   "nbconvert_exporter": "python",
   "pygments_lexer": "ipython3",
   "version": "3.6.4"
  }
 },
 "nbformat": 4,
 "nbformat_minor": 2
}
