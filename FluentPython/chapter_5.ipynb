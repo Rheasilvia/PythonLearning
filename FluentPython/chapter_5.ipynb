{
 "cells": [
  {
   "cell_type": "code",
   "execution_count": 1,
   "metadata": {},
   "outputs": [
    {
     "data": {
      "text/plain": [
       "720"
      ]
     },
     "execution_count": 1,
     "metadata": {},
     "output_type": "execute_result"
    }
   ],
   "source": [
    "#利用reduce函数和匿名函数计算阶乘\n",
    "from functools import reduce\n",
    "from operator import  mul\n",
    "#利用reduce和operator.mul函数计算阶乘\n",
    "def fact(n):\n",
    "    return reduce(mul,range(1, n+1))\n",
    "\n",
    "fact(6) #6 * 5 * 4 * 3*2*1"
   ]
  },
  {
   "cell_type": "code",
   "execution_count": 2,
   "metadata": {},
   "outputs": [
    {
     "data": {
      "text/plain": [
       "Metropolis(name='Tokyo', cc='JP', pop=36.87, coord=LatLong(lat=35.9, long=139.2))"
      ]
     },
     "execution_count": 2,
     "metadata": {},
     "output_type": "execute_result"
    }
   ],
   "source": [
    "from collections import namedtuple\n",
    "\n",
    "metro_data = [\n",
    "    ('Tokyo','JP',36.87,(35.9,139.2)),\n",
    "    ('Sao Paulo','BR',19.649,(32.9,12.2)),\n",
    "]\n",
    "\n",
    "LatLong = namedtuple('LatLong', 'lat long')\n",
    "Metropolis = namedtuple('Metropolis', 'name cc pop coord')\n",
    "metro_areas = [Metropolis(name,cc,pop,LatLong(lat,long))\n",
    "               for name,cc,pop,(lat, long) in metro_data]\n",
    "metro_areas[0]"
   ]
  },
  {
   "cell_type": "code",
   "execution_count": 3,
   "metadata": {},
   "outputs": [
    {
     "data": {
      "text/plain": [
       "35.9"
      ]
     },
     "execution_count": 3,
     "metadata": {},
     "output_type": "execute_result"
    }
   ],
   "source": [
    "metro_areas[0].coord.lat"
   ]
  },
  {
   "cell_type": "code",
   "execution_count": 4,
   "metadata": {},
   "outputs": [
    {
     "name": "stdout",
     "output_type": "stream",
     "text": [
      "('Sao Paulo', 32.9)\n",
      "('Tokyo', 35.9)\n"
     ]
    }
   ],
   "source": [
    "#attrgetter通过名称获取属性\n",
    "from operator import attrgetter\n",
    "\n",
    "name_lat = attrgetter('name','coord.lat')\n",
    "\n",
    "#通过key排序\n",
    "for city in sorted(metro_areas,key=attrgetter('coord.lat')):\n",
    "    print (name_lat(city))"
   ]
  },
  {
   "cell_type": "code",
   "execution_count": null,
   "metadata": {
    "collapsed": true
   },
   "outputs": [],
   "source": []
  },
  {
   "cell_type": "code",
   "execution_count": null,
   "metadata": {
    "collapsed": true
   },
   "outputs": [],
   "source": []
  },
  {
   "cell_type": "code",
   "execution_count": null,
   "metadata": {
    "collapsed": true
   },
   "outputs": [],
   "source": []
  }
 ],
 "metadata": {
  "kernelspec": {
   "display_name": "Python 3",
   "language": "python",
   "name": "python3"
  },
  "language_info": {
   "codemirror_mode": {
    "name": "ipython",
    "version": 3
   },
   "file_extension": ".py",
   "mimetype": "text/x-python",
   "name": "python",
   "nbconvert_exporter": "python",
   "pygments_lexer": "ipython3",
   "version": "3.6.2"
  }
 },
 "nbformat": 4,
 "nbformat_minor": 2
}
